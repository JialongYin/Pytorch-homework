{
  "nbformat": 4,
  "nbformat_minor": 0,
  "metadata": {
    "colab": {
      "name": "HW9.ipynb",
      "version": "0.3.2",
      "provenance": [],
      "collapsed_sections": []
    },
    "language_info": {
      "codemirror_mode": {
        "name": "ipython",
        "version": 3
      },
      "file_extension": ".py",
      "mimetype": "text/x-python",
      "name": "python",
      "nbconvert_exporter": "python",
      "pygments_lexer": "ipython3",
      "version": "3.7.1"
    },
    "kernelspec": {
      "display_name": "Python 3",
      "language": "python",
      "name": "python3"
    },
    "accelerator": "GPU"
  },
  "cells": [
    {
      "metadata": {
        "colab_type": "text",
        "id": "DvRcQIxISJ30"
      },
      "cell_type": "markdown",
      "source": [
        "# **Homework 9: Variational Autoencoders**"
      ]
    },
    {
      "metadata": {
        "colab_type": "text",
        "id": "tJQ_deIUSca8"
      },
      "cell_type": "markdown",
      "source": [
        "## **About**\n",
        "\n",
        "### **Due**\n",
        "\n",
        "Monday 4/22/19, 11:59 PM CST\n",
        "\n",
        "### **Goal**\n",
        "\n",
        "This homework focuses on creating variational autoencoders applied to the MNIST dataset."
      ]
    },
    {
      "metadata": {
        "colab_type": "text",
        "id": "d_TOu0F9Sze-"
      },
      "cell_type": "markdown",
      "source": [
        "## Dev Environment\n",
        "### Working on Google Colab\n",
        "You may choose to work locally or on Google Colaboratory. You have access to free compute through this service. \n",
        "1. Visit https://colab.research.google.com/drive \n",
        "2. Navigate to the **`Upload`** tab, and upload your `HW10.ipynb`\n",
        "3. Now on the top right corner, under the `Comment` and `Share` options, you should see a `Connect` option. Once you are connected, you will have access to a VM with 12GB RAM, 50 GB disk space and a single GPU. The dropdown menu will allow you to connect to a local runtime as well.\n",
        "\n",
        "**Notes:** \n",
        "* **If you do not have a working setup for Python 3, this is your best bet. It will also save you from heavy installations like `tensorflow` if you don't want to deal with those.**\n",
        "* ***There is a downside*. You can only use this instance for a single 12-hour stretch, after which your data will be deleted, and you would have redownload all your datasets, any libraries not already on the VM, and regenerate your logs**.\n",
        "\n",
        "\n",
        "### Installing PyTorch and Dependencies\n",
        "\n",
        "The instructions for installing and setting up PyTorch can be found at https://pytorch.org/get-started/locally/. Make sure you follow the instructions for your machine. For any of the remaining libraries used in this assignment:\n",
        "* We have provided a `hw8_requirements.txt` file on the homework web page. \n",
        "* Download this file, and in the same directory you can run `pip3 install -r hw8_requirements.txt`\n",
        "\n",
        "Check that PyTorch installed correctly by running the following:"
      ]
    },
    {
      "metadata": {
        "colab_type": "code",
        "id": "YB1d0Rm6SWiB",
        "outputId": "ee9ed2ba-5713-4924-b451-1261e2e9ab54",
        "colab": {
          "base_uri": "https://localhost:8080/",
          "height": 104
        }
      },
      "cell_type": "code",
      "source": [
        "import torch\n",
        "torch.rand(5, 3)"
      ],
      "execution_count": 1,
      "outputs": [
        {
          "output_type": "execute_result",
          "data": {
            "text/plain": [
              "tensor([[0.5448, 0.7435, 0.3574],\n",
              "        [0.9570, 0.7956, 0.2751],\n",
              "        [0.2851, 0.5971, 0.6993],\n",
              "        [0.9972, 0.4359, 0.0746],\n",
              "        [0.2118, 0.8274, 0.7764]])"
            ]
          },
          "metadata": {
            "tags": []
          },
          "execution_count": 1
        }
      ]
    },
    {
      "metadata": {
        "colab_type": "text",
        "id": "4dLgW4qRTEqj"
      },
      "cell_type": "markdown",
      "source": [
        "The output should look something like\n",
        "\n",
        "```python\n",
        "tensor([[0.3380, 0.3845, 0.3217],\n",
        "        [0.8337, 0.9050, 0.2650],\n",
        "        [0.2979, 0.7141, 0.9069],\n",
        "        [0.1449, 0.1132, 0.1375],\n",
        "        [0.4675, 0.3947, 0.1426]])\n",
        "```\n",
        "\n",
        "### Let's get started with the assignment."
      ]
    },
    {
      "metadata": {
        "colab_type": "text",
        "id": "ysPO_A4iTJvm"
      },
      "cell_type": "markdown",
      "source": [
        "## **Instructions**\n",
        "\n",
        "### **Part 1 - Datasets and Dataloaders**\n",
        "\n",
        "This part of the assignment is similar to HW 8. \n",
        "\n",
        "**Create a directory named hw9_data with the following command.**"
      ]
    },
    {
      "metadata": {
        "colab_type": "code",
        "id": "VFBEkk5aT0Xy",
        "colab": {}
      },
      "cell_type": "code",
      "source": [
        "!mkdir hw9_data"
      ],
      "execution_count": 0,
      "outputs": []
    },
    {
      "metadata": {
        "colab_type": "text",
        "id": "3UK59qgDT7pU"
      },
      "cell_type": "markdown",
      "source": [
        "\n",
        "**Now use `torch.datasets.MNIST` to load the Train and Test data into `hw9_data`.** \n",
        "* ** Use the directory you created above as the `root` directory for your datasets**\n",
        "* ** Populate the `transformations` variable with any transformations you would like to perform on your data.** (Hint: You will need to do at least one)\n",
        "* **Pass your `transformations` variable to `torch.datasets.MNIST`. This allows you to perform arbitrary transformations to your data at loading time.**"
      ]
    },
    {
      "metadata": {
        "colab_type": "code",
        "id": "acNAlKImT7Ta",
        "colab": {
          "base_uri": "https://localhost:8080/",
          "height": 259
        },
        "outputId": "000c8f00-3861-408b-8295-29545691120c"
      },
      "cell_type": "code",
      "source": [
        "from torchvision import datasets, transforms\n",
        "\n",
        "## YOUR CODE HERE ##\n",
        "transformations = transforms.Compose([transforms.ToTensor()]) \n",
        "mnist_train = datasets.MNIST(root=\"./hw9_data\", train=True, transform=transformations, download=True)\n",
        "mnist_test = datasets.MNIST(root=\"./hw9_data\", train=False, transform=transformations, download=True)"
      ],
      "execution_count": 3,
      "outputs": [
        {
          "output_type": "stream",
          "text": [
            "\r0it [00:00, ?it/s]"
          ],
          "name": "stderr"
        },
        {
          "output_type": "stream",
          "text": [
            "Downloading http://yann.lecun.com/exdb/mnist/train-images-idx3-ubyte.gz to ./hw9_data/MNIST/raw/train-images-idx3-ubyte.gz\n"
          ],
          "name": "stdout"
        },
        {
          "output_type": "stream",
          "text": [
            "9920512it [00:03, 3112994.84it/s]                             \n"
          ],
          "name": "stderr"
        },
        {
          "output_type": "stream",
          "text": [
            "Extracting ./hw9_data/MNIST/raw/train-images-idx3-ubyte.gz\n"
          ],
          "name": "stdout"
        },
        {
          "output_type": "stream",
          "text": [
            "\r0it [00:00, ?it/s]"
          ],
          "name": "stderr"
        },
        {
          "output_type": "stream",
          "text": [
            "Downloading http://yann.lecun.com/exdb/mnist/train-labels-idx1-ubyte.gz to ./hw9_data/MNIST/raw/train-labels-idx1-ubyte.gz\n"
          ],
          "name": "stdout"
        },
        {
          "output_type": "stream",
          "text": [
            "32768it [00:00, 49100.61it/s]                           \n",
            "0it [00:00, ?it/s]"
          ],
          "name": "stderr"
        },
        {
          "output_type": "stream",
          "text": [
            "Extracting ./hw9_data/MNIST/raw/train-labels-idx1-ubyte.gz\n",
            "Downloading http://yann.lecun.com/exdb/mnist/t10k-images-idx3-ubyte.gz to ./hw9_data/MNIST/raw/t10k-images-idx3-ubyte.gz\n"
          ],
          "name": "stdout"
        },
        {
          "output_type": "stream",
          "text": [
            "1654784it [00:02, 819376.21it/s]                             \n",
            "0it [00:00, ?it/s]"
          ],
          "name": "stderr"
        },
        {
          "output_type": "stream",
          "text": [
            "Extracting ./hw9_data/MNIST/raw/t10k-images-idx3-ubyte.gz\n",
            "Downloading http://yann.lecun.com/exdb/mnist/t10k-labels-idx1-ubyte.gz to ./hw9_data/MNIST/raw/t10k-labels-idx1-ubyte.gz\n"
          ],
          "name": "stdout"
        },
        {
          "output_type": "stream",
          "text": [
            "8192it [00:00, 18419.92it/s]            "
          ],
          "name": "stderr"
        },
        {
          "output_type": "stream",
          "text": [
            "Extracting ./hw9_data/MNIST/raw/t10k-labels-idx1-ubyte.gz\n",
            "Processing...\n",
            "Done!\n"
          ],
          "name": "stdout"
        },
        {
          "output_type": "stream",
          "text": [
            "\n"
          ],
          "name": "stderr"
        }
      ]
    },
    {
      "metadata": {
        "colab_type": "text",
        "id": "jH35P-FcULyr"
      },
      "cell_type": "markdown",
      "source": [
        "**Any file in our dataset will now be read at runtime, and the specified transformations we need on it will be applied when we need it.**. \n",
        "\n",
        "We could iterate through these directly using a loop, but this is not idiomatic. PyTorch provides us with this abstraction in the form of `DataLoaders`. The module of interest is `torch.utils.data.DataLoader`. \n",
        "\n",
        "`DataLoader` allows us to do lots of useful things\n",
        "* Group our data into batches\n",
        "* Shuffle our data\n",
        "* Load the data in parallel using `multiprocessing` workers\n",
        "\n",
        "**Use `DataLoader` to create a loader for the training set and one for the testing set**\n",
        "* **Use a `batch_size` of 32 to start, you may change it if you wish.**\n",
        "* **Set the `shuffle` parameter to `True`.** \n",
        "\n",
        "**Check that the data was loaded successfully before proceeding to the next sections. **"
      ]
    },
    {
      "metadata": {
        "colab_type": "code",
        "id": "q3DO5eriUhZF",
        "colab": {}
      },
      "cell_type": "code",
      "source": [
        "from torch.utils.data import DataLoader\n",
        "\n",
        "## YOUR CODE HERE ##\n",
        "train_loader = DataLoader(mnist_train, batch_size=32, shuffle=True, num_workers=3)\n",
        "test_loader = DataLoader(mnist_test, batch_size=32, shuffle=True, num_workers=3)"
      ],
      "execution_count": 0,
      "outputs": []
    },
    {
      "metadata": {
        "colab_type": "text",
        "id": "EccGF9s3UgOm"
      },
      "cell_type": "markdown",
      "source": [
        "## **Part 2 - Encoder and Decoders (0 points)**\n",
        "\n",
        "In this section we will be creating the encoder and decoder for our variational autoencoder (VAE). \n",
        "\n",
        "You can take a look at the following to understand how VAE's work. \n",
        "\n",
        "*   https://towardsdatascience.com/intuitively-understanding-variational-autoencoders-1bfe67eb5daf\n",
        "*  http://kvfrans.com/variational-autoencoders-explained/\n",
        "*  https://jmetzen.github.io/2015-11-27/vae.html\n",
        "\n",
        "VAEs work around a latent space who's dimension can be chosen by us. We will leave this as a parameter for the Encoder and Decoder classes that you will have to populate. \n",
        "\n",
        "Feel free to use any network architecture that you wish. Try simpler network structures like a few linear layers before trying anything more complicated. \n",
        "\n",
        "### For the Encoder:\n",
        "\n",
        "*   **Finish the __init__() function.**\n",
        "*  **Finish the forward() function.** \n",
        "*  **Assume that input to forward, x, is of shape (batch_size, 28,28)**\n",
        "*  **forward() should return two tensors of size latent_dim like a standard encoder of a VAE**\n",
        "* **One of the tensors should correspond to the mean of the encoding and the other tensor should correspond to the variance. In practice, it is easier to model the output as the log of the variance (logvar) and we will too**\n",
        "\n",
        "### For the Decoder:\n",
        "\n",
        "*   **Finish the __init__() function.**\n",
        "*  **Finish the forward() function.** \n",
        "*  **Assume that input to forward, x, is of shape (batch_size, latent_dim)**\n",
        "*  **forward() should return a tensor of shape (batch_size, 28,28)**\n",
        "* **Make sure that the output lies in the same range as the input to the encoder (Hint: Sigmoid?)**\n",
        "\n",
        "\n",
        "\n",
        "\n",
        "\n"
      ]
    },
    {
      "metadata": {
        "colab_type": "code",
        "id": "NL4wDY2TYVGP",
        "colab": {}
      },
      "cell_type": "code",
      "source": [
        "from torch import nn\n",
        "class Encoder(nn.Module):\n",
        "  def __init__(self, latent_dim):\n",
        "    super(Encoder, self).__init__()\n",
        "    ## YOUR CODE HERE ##\n",
        "    # ENCODER\n",
        "    # 28 x 28 pixels = 784 input pixels, 400 outputs\n",
        "    self.fc1 = nn.Linear(784, 400)\n",
        "    # rectified linear unit layer from 400 to 400\n",
        "    # max(0, x)\n",
        "    self.relu = nn.ReLU()\n",
        "    self.fc21 = nn.Linear(400, latent_dim)  # mu layer\n",
        "    self.fc22 = nn.Linear(400, latent_dim)  # logvariance layer\n",
        "    # this last layer bottlenecks through latent_dim connections\n",
        "\n",
        "  def forward(self, x):\n",
        "    ## YOUR CODE HERE ##\n",
        "    h1 = self.relu(self.fc1(x))  # type: Variable\n",
        "    return self.fc21(h1), self.fc22(h1)\n",
        "\n",
        "class Decoder(nn.Module):\n",
        "  def __init__(self, latent_dim):\n",
        "    super(Decoder, self).__init__()\n",
        "    ## YOUR CODE HERE ##\n",
        "    # DECODER\n",
        "    # from bottleneck to hidden 400\n",
        "    self.fc3 = nn.Linear(latent_dim, 400)\n",
        "    # from hidden 400 to 784 outputs\n",
        "    self.relu = nn.ReLU()\n",
        "    self.fc4 = nn.Linear(400, 784)\n",
        "    self.sigmoid = nn.Sigmoid()\n",
        "    \n",
        "  def forward(self,x):\n",
        "    ## YOUR CODE HERE ##\n",
        "    h3 = self.relu(self.fc3(x))\n",
        "    return self.sigmoid(self.fc4(h3))"
      ],
      "execution_count": 0,
      "outputs": []
    },
    {
      "metadata": {
        "colab_type": "text",
        "id": "I9Su2FOMZG93"
      },
      "cell_type": "markdown",
      "source": [
        "## **Part 3: Training and loss functions** (0 points)\n",
        "\n",
        "Recall that the encoder outputs the mean (mu) and the log of the variance (logvar). This implies that the latent vector of the input image follows a gaussian distribution with mean (mu) and standard deviation (e^[0.5\\*logvar]). To decode this information, the decoder needs a sample from this distribution. \n",
        "\n",
        "**Complete the sample function to generate these samples **"
      ]
    },
    {
      "metadata": {
        "colab_type": "code",
        "id": "0-w9oxDddxSc",
        "colab": {}
      },
      "cell_type": "code",
      "source": [
        "def sample(mu, logvar):\n",
        "  ## YOUR CODE HERE ##\n",
        "    std = logvar.mul(0.5).exp_()  # type: Variable\n",
        "    eps = Variable(std.data.new(std.size()).normal_())\n",
        "    return eps.mul(std).add_(mu)"
      ],
      "execution_count": 0,
      "outputs": []
    },
    {
      "metadata": {
        "colab_type": "text",
        "id": "4wUHpN7hd-6h"
      },
      "cell_type": "markdown",
      "source": [
        "We also need to create the loss function. Assume that x are your input images and x_hat are your reconstructions of these input images, complete the following loss for a VAE. (Hint: You will need to use mu and logvar as well)"
      ]
    },
    {
      "metadata": {
        "colab_type": "code",
        "id": "7esviVxoecxX",
        "colab": {}
      },
      "cell_type": "code",
      "source": [
        "from torch.nn import functional as F\n",
        "def vae_loss(x, x_hat, mu, logvar):\n",
        "  ## YOUR CODE HERE ##\n",
        "  # MSE LOSS + KL DIVERGENCE \n",
        "    BCE = F.mse_loss(x_hat, x.view(-1, 784))\n",
        "    KLD = -0.5 * torch.sum(1 + logvar - mu.pow(2) - logvar.exp())\n",
        "    KLD /= 32 * 784 # batch size = 32\n",
        "    return BCE + KLD"
      ],
      "execution_count": 0,
      "outputs": []
    },
    {
      "metadata": {
        "colab_type": "text",
        "id": "m5T1tOI0exar"
      },
      "cell_type": "markdown",
      "source": [
        "In the following we will instantiate an Encoder and Decoder with a latent dimension of 32.\n",
        "\n",
        "We also define a single optimizer that optimizes the parameters of both the Encoder and the Decoder together. Feel free to use any optimizer of your choice. "
      ]
    },
    {
      "metadata": {
        "colab_type": "code",
        "id": "0JGv_rs2fJkA",
        "colab": {}
      },
      "cell_type": "code",
      "source": [
        "from torch import optim\n",
        "\n",
        "## YOUR CODE HERE ##\n",
        "encoder = Encoder(32)\n",
        "decoder = Decoder(32)\n",
        "params = list(encoder.parameters())+list(decoder.parameters())\n",
        "optimizer = optim.Adam(params, lr=1e-3)"
      ],
      "execution_count": 0,
      "outputs": []
    },
    {
      "metadata": {
        "colab_type": "text",
        "id": "RwJkFq5cfn0w"
      },
      "cell_type": "markdown",
      "source": [
        "Complete the train function that takes input encoder, decoder, train_loader, optimizer, and number of epochs you wish to train your model for.\n",
        "\n",
        "Training will involve:\n",
        "\n",
        "1.   **One epoch is defined as a full pass of your dataset through your model. We choose the number of epochs we wish to train our model for.**\n",
        "2.   **For each batch, use the encoder to generate the mu and logvar.**\n",
        "3. **Sample a latent vector for each image in the batch and feed this to the decoder to generate the decoded images.**\n",
        "4. **Calculate the loss function for this batch.**\n",
        "5. **Now calculate the gradients for each parameter you are optimizing over. (Hint: Your loss function object can do this for you)**\n",
        "6. **Update your model parameters (Hint: The optimizer comes in here)**\n",
        "7. ** Set the gradients in your model to zero for the next batch.**\n",
        "\n"
      ]
    },
    {
      "metadata": {
        "colab_type": "code",
        "id": "F17NVLO8hkP8",
        "colab": {}
      },
      "cell_type": "code",
      "source": [
        "from torch.autograd import Variable\n",
        "def train(encoder, decoder, train_loader, optimizer, num_epochs = 10):\n",
        "    device = torch.device('cuda' if torch.cuda.is_available() else 'cpu')\n",
        "    for epoch in range(num_epochs):\n",
        "        encoder.train()\n",
        "        decoder.train()\n",
        "        encoder.to(device)\n",
        "        decoder.to(device)\n",
        "        train_loss = 0\n",
        "        # in the case of MNIST, len(train_loader.dataset) is 60000\n",
        "        # each `data` is of BATCH_SIZE samples and has shape [128, 1, 28, 28]\n",
        "        for batch_idx, (data, _) in enumerate(train_loader):\n",
        "            data = data.reshape(-1,28*28).to(device)\n",
        "            data = Variable(data)\n",
        "            optimizer.zero_grad()\n",
        "            # push whole batch of data through VAE.forward() to get recon_loss\n",
        "            mu, logvar = encoder(data)\n",
        "            z = sample(mu, logvar)\n",
        "            recon_batch = decoder(z)\n",
        "            # calculate scalar loss\n",
        "            loss = vae_loss(data, recon_batch, mu, logvar)\n",
        "            # calculate the gradient of the loss w.r.t. the graph leaves\n",
        "            # i.e. input variables -- by the power of pytorch!\n",
        "            loss.backward()\n",
        "            train_loss += loss.item()\n",
        "            optimizer.step()\n",
        "        print('====> Epoch: {} Sum loss: {:.4f}'.format(\n",
        "              epoch, train_loss))"
      ],
      "execution_count": 0,
      "outputs": []
    },
    {
      "metadata": {
        "colab_type": "text",
        "id": "dLIjuvFkhuxH"
      },
      "cell_type": "markdown",
      "source": [
        "Finally call train with the relevant parameters.\n",
        "\n",
        "Note : This function may take a while to complete if you're training for many epochs on a cpu. This is where it comes in handy to be running on Google Colab, or just have a GPU on hand."
      ]
    },
    {
      "metadata": {
        "colab_type": "code",
        "id": "Kfh93_E0TfZZ",
        "outputId": "8f2d1b63-bf14-48b3-8a14-dcb6290acb96",
        "colab": {
          "base_uri": "https://localhost:8080/",
          "height": 34
        }
      },
      "cell_type": "code",
      "source": [
        "device = torch.device(\"cuda:0\" if torch.cuda.is_available() else \"cpu\")\n",
        "print(device)"
      ],
      "execution_count": 10,
      "outputs": [
        {
          "output_type": "stream",
          "text": [
            "cuda:0\n"
          ],
          "name": "stdout"
        }
      ]
    },
    {
      "metadata": {
        "colab_type": "code",
        "id": "puFTbp4Nh2Hb",
        "outputId": "d97597c5-deb4-4973-c60e-8d29e5f43b2b",
        "colab": {
          "base_uri": "https://localhost:8080/",
          "height": 190
        }
      },
      "cell_type": "code",
      "source": [
        "train(encoder, decoder, train_loader, optimizer, num_epochs = 10)"
      ],
      "execution_count": 11,
      "outputs": [
        {
          "output_type": "stream",
          "text": [
            "====> Epoch: 0 Sum loss: 95.1309\n",
            "====> Epoch: 1 Sum loss: 79.9214\n",
            "====> Epoch: 2 Sum loss: 76.8469\n",
            "====> Epoch: 3 Sum loss: 75.4648\n",
            "====> Epoch: 4 Sum loss: 74.6314\n",
            "====> Epoch: 5 Sum loss: 74.0802\n",
            "====> Epoch: 6 Sum loss: 73.5143\n",
            "====> Epoch: 7 Sum loss: 73.1326\n",
            "====> Epoch: 8 Sum loss: 72.8152\n",
            "====> Epoch: 9 Sum loss: 72.4997\n"
          ],
          "name": "stdout"
        }
      ]
    },
    {
      "metadata": {
        "colab_type": "text",
        "id": "-ml3F2uSh7-p"
      },
      "cell_type": "markdown",
      "source": [
        "## **Part 4: Visualizing the VAE output** (90 points)\n",
        "\n",
        "We will look at how well the codes produced by the VAE can be interpolated. **For this section we will only use the MNIST test set. **\n",
        "\n",
        "To create an interpolation between two images A and B, we encode both these images and generate a sample code for each of them. We now consider 7 equally spaced points in between these two sample codes giving us a total of 9 points including the samples. We then decode these images to get interpolated images in between A and B.\n",
        "\n",
        "Complete the interpolation function below that takes a pair of images A and B and returns 9 images. (You are free to use any data structure you want to return these images)"
      ]
    },
    {
      "metadata": {
        "colab_type": "code",
        "id": "JRE_LDjNjnAX",
        "colab": {}
      },
      "cell_type": "code",
      "source": [
        "import matplotlib.pyplot as plt\n",
        "from torchvision import utils\n",
        "%matplotlib inline\n",
        "import numpy as np\n",
        "\n",
        "def create_interpolates(A, B, encoder, decoder):\n",
        "  ## YOUR CODE HERE ##\n",
        "#     device = torch.device('cuda' if torch.cuda.is_available() else 'cpu')\n",
        "    encoder.to(device)\n",
        "    decoder.to(device)\n",
        "    a = Variable(A.reshape(28*28)).to(device)\n",
        "    b = Variable(B.reshape(28*28)).to(device)\n",
        "    mu_a, logvar_a = encoder(a)\n",
        "    z_a = sample(mu_a, logvar_a).cpu().data.cpu().numpy()\n",
        "    mu_b, logvar_b = encoder(b)\n",
        "    z_b = sample(mu_b, logvar_b).cpu().data.cpu().numpy()\n",
        "    codes = []\n",
        "    for i in range(len(z_a)):\n",
        "        codes.append(np.linspace(z_a[i], z_b[i], num=9))\n",
        "    codes = torch.from_numpy(np.transpose(np.array(codes,dtype=np.single))).to(device)\n",
        "    imgs = decoder(codes)\n",
        "    return list(imgs.reshape(9,1,28,28).data)"
      ],
      "execution_count": 0,
      "outputs": []
    },
    {
      "metadata": {
        "colab_type": "text",
        "id": "uCBT8zvEk_zn"
      },
      "cell_type": "markdown",
      "source": [
        "**For 10 pairs of MNIST test images of the same digit (1 pair for \"0\", 1 pair for \"1\", etc.), selected at random, compute the code for each image of the pair. Now compute 7 evenly spaced linear interpolates between these codes, and decode the result into images. Prepare a figure showing this interpolate. Lay out the figure so each interpolate is a row. On the left of the row is the first test image; then the interpolate closest to it; etc; to the last test image. You should have a 10 rows (1 row per digit) and 9 columns (7 interpolates + 2 selected test images) of images. (45 points)**"
      ]
    },
    {
      "metadata": {
        "colab_type": "code",
        "id": "zoaMBIu0jABd",
        "outputId": "cb043710-f021-4bb3-c7e0-537dace1c69f",
        "colab": {
          "base_uri": "https://localhost:8080/",
          "height": 299
        }
      },
      "cell_type": "code",
      "source": [
        "similar_pairs = {}\n",
        "for _, (x, y) in enumerate(test_loader):\n",
        "    for i in range(len(y)):\n",
        "        if y[i].item() not in similar_pairs:\n",
        "            similar_pairs[y[i].item()] = []\n",
        "        if len(similar_pairs[y[i].item()])<2:\n",
        "            similar_pairs[y[i].item()].append(x[i])\n",
        "  \n",
        "    done = True\n",
        "    for i in range(10):\n",
        "        if i not in similar_pairs or len(similar_pairs[i])<2:\n",
        "            done = False\n",
        "  \n",
        "    if done:\n",
        "        break\n",
        "# similar_pairs[i] contains two images indexed at 0 and 1 that have images of the digit i\n",
        "\n",
        "## YOUR CODE HERE ##\n",
        "figure = []\n",
        "for i in range(10):\n",
        "    imgs = create_interpolates(similar_pairs[i][0], similar_pairs[i][1], encoder, decoder)\n",
        "    figure += imgs\n",
        "grid = utils.make_grid(figure,nrow=9)\n",
        "plt.imshow(grid.cpu().numpy().transpose((1, 2, 0)))\n",
        "plt.title('10 pairs of MNIST test images of the same digit')"
      ],
      "execution_count": 13,
      "outputs": [
        {
          "output_type": "execute_result",
          "data": {
            "text/plain": [
              "Text(0.5, 1.0, '10 pairs of MNIST test images of the same digit')"
            ]
          },
          "metadata": {
            "tags": []
          },
          "execution_count": 13
        },
        {
          "output_type": "display_data",
          "data": {
            "image/png": "[encoded data removed]",
            "text/plain": [
              "<Figure size 432x288 with 1 Axes>"
            ]
          },
          "metadata": {
            "tags": []
          }
        }
      ]
    },
    {
      "metadata": {
        "colab_type": "text",
        "id": "k4q7-6jTlQj9"
      },
      "cell_type": "markdown",
      "source": [
        "**For 10 pairs of MNIST test images, selected at random, compute the code for each image of the pair. Now compute 7 evenly spaced linear interpolates between these codes, and decode the result into images. Prepare a figure showing this interpolate. Lay out the figure so each interpolate is a row. On the left of the row is the first test image; then the interpolate closest to it; etc; to the last test image. You should have a 10 rows and 9 columns of images. (45 points)**"
      ]
    },
    {
      "metadata": {
        "colab_type": "code",
        "id": "iKgDR1L-lU11",
        "outputId": "7bba4846-cbcc-4fb5-81a3-e750fd50ec95",
        "colab": {
          "base_uri": "https://localhost:8080/",
          "height": 299
        }
      },
      "cell_type": "code",
      "source": [
        "random_pairs = {}\n",
        "for _, (x, y) in enumerate(test_loader):\n",
        "  # Make sure the batch size is greater than 20\n",
        "  for i in range(10):\n",
        "    random_pairs[i] = []\n",
        "    random_pairs[i].append(x[2*i])\n",
        "    random_pairs[i].append(x[2*i+1])\n",
        "  break\n",
        "\n",
        "# random_pairs[i] contains two images indexed at 0 and 1 that are chosen at random\n",
        "\n",
        "## YOUR CODE HERE ##\n",
        "figure = []\n",
        "for i in range(10):\n",
        "    imgs = create_interpolates(random_pairs[i][0], random_pairs[i][1], encoder, decoder)\n",
        "    figure += imgs\n",
        "grid = utils.make_grid(figure,nrow=9)\n",
        "plt.imshow(grid.cpu().numpy().transpose((1, 2, 0)))\n",
        "plt.title('10 pairs of MNIST test images of the random digit')"
      ],
      "execution_count": 14,
      "outputs": [
        {
          "output_type": "execute_result",
          "data": {
            "text/plain": [
              "Text(0.5, 1.0, '10 pairs of MNIST test images of the random digit')"
            ]
          },
          "metadata": {
            "tags": []
          },
          "execution_count": 14
        },
        {
          "output_type": "display_data",
          "data": {
            "image/png": "[encoded data removed]",
            "text/plain": [
              "<Figure size 432x288 with 1 Axes>"
            ]
          },
          "metadata": {
            "tags": []
          }
        }
      ]
    },
    {
      "metadata": {
        "colab_type": "code",
        "id": "HAK9jh0-N7c5",
        "colab": {}
      },
      "cell_type": "code",
      "source": [
        ""
      ],
      "execution_count": 0,
      "outputs": []
    }
  ]
}
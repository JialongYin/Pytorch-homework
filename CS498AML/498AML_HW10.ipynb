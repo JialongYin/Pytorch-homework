{
  "nbformat": 4,
  "nbformat_minor": 0,
  "metadata": {
    "colab": {
      "name": "AML_HW10.ipynb",
      "version": "0.3.2",
      "provenance": [],
      "collapsed_sections": [],
      "toc_visible": true
    },
    "language_info": {
      "codemirror_mode": {
        "name": "ipython",
        "version": 3
      },
      "file_extension": ".py",
      "mimetype": "text/x-python",
      "name": "python",
      "nbconvert_exporter": "python",
      "pygments_lexer": "ipython3",
      "version": "3.6.8"
    },
    "kernelspec": {
      "name": "python3",
      "display_name": "Python 3"
    },
    "accelerator": "GPU"
  },
  "cells": [
    {
      "metadata": {
        "colab_type": "text",
        "id": "vUTgGUi4JEft"
      },
      "cell_type": "markdown",
      "source": [
        "# Homework 10 - CIFAR10 Image Classification with PyTorch"
      ]
    },
    {
      "metadata": {
        "colab_type": "text",
        "id": "T5Kx8gJBJEW_"
      },
      "cell_type": "markdown",
      "source": [
        "## About"
      ]
    },
    {
      "metadata": {
        "colab_type": "text",
        "id": "aRAalfd1GITX"
      },
      "cell_type": "markdown",
      "source": [
        "The goal of the homework is to train a convolutional neural network on the standard CIFAR10 image classfication dataset.\n",
        "\n",
        "When solving machine learning tasks using neural networks, one typically starts with a simple network architecture and then improves the network by adding new layers, retraining, adjusting parameters, retraining, etc.  We attempt to illustrate this process below with several architecture improvements.\n"
      ]
    },
    {
      "metadata": {
        "colab_type": "text",
        "id": "OCl5gakxJes-"
      },
      "cell_type": "markdown",
      "source": [
        "## Dev Environment\n",
        "### Working on Google Colab\n",
        "You may choose to work locally or on Google Colaboratory. You have access to free compute through this service.   Colab is recommended since it will be setup correctly and will have access to GPU resources.\n",
        "1. Visit https://colab.research.google.com/drive \n",
        "2. Navigate to the **`Upload`** tab, and upload your `HW10.ipynb`\n",
        "3. Now on the top right corner, under the `Comment` and `Share` options, you should see a `Connect` option. Once you are connected, you will have access to a VM with 12GB RAM, 50 GB disk space and a single GPU. The dropdown menu will allow you to connect to a local runtime as well.\n",
        "\n",
        "**Notes:** \n",
        "* **If you do not have a working setup for Python 3, this is your best bet. It will also save you from heavy installations like `tensorflow` if you don't want to deal with those.**\n",
        "* ***There is a downside*. You can only use this instance for a single 12-hour stretch, after which your data will be deleted, and you would have redownload all your datasets, any libraries not already on the VM, and regenerate your logs**.\n",
        "\n",
        "\n",
        "### Installing PyTorch and Dependencies\n",
        "\n",
        "The instructions for installing and setting up PyTorch can be found at https://pytorch.org/get-started/locally/. Make sure you follow the instructions for your machine. For any of the remaining libraries used in this assignment:\n",
        "* We have provided a `hw8_requirements.txt` file on the homework web page. \n",
        "* Download this file, and in the same directory you can run `pip3 install -r hw8_requirements.txt`\n",
        "​\n",
        "Check that PyTorch installed correctly by running the following:"
      ]
    },
    {
      "metadata": {
        "colab_type": "code",
        "id": "IaJ6BLrAJeCU",
        "outputId": "45863d2e-e9ed-4929-9a0d-71d039ee50ff",
        "colab": {
          "base_uri": "https://localhost:8080/",
          "height": 102
        }
      },
      "cell_type": "code",
      "source": [
        "import torch\n",
        "torch.rand(5, 3)"
      ],
      "execution_count": 15,
      "outputs": [
        {
          "output_type": "execute_result",
          "data": {
            "text/plain": [
              "tensor([[0.8586, 0.7377, 0.8961],\n",
              "        [0.9450, 0.0374, 0.0745],\n",
              "        [0.7820, 0.0558, 0.7334],\n",
              "        [0.4905, 0.0956, 0.0228],\n",
              "        [0.2177, 0.6981, 0.9247]])"
            ]
          },
          "metadata": {
            "tags": []
          },
          "execution_count": 15
        }
      ]
    },
    {
      "metadata": {
        "colab_type": "text",
        "id": "nEmmCk1IJiGn"
      },
      "cell_type": "markdown",
      "source": [
        "## Part 0 Imports and Basic Setup  (5 Points)"
      ]
    },
    {
      "metadata": {
        "colab_type": "text",
        "id": "Y3mTddKuXPBU"
      },
      "cell_type": "markdown",
      "source": [
        "First, import the required libraries as follows. The libraries we will use will be the same as those in HW8. "
      ]
    },
    {
      "metadata": {
        "colab_type": "code",
        "id": "UwtDsq3VbrNY",
        "colab": {}
      },
      "cell_type": "code",
      "source": [
        "import numpy as np\n",
        "import torch\n",
        "from torch import nn\n",
        "from torch import optim\n",
        "import torch.nn.functional as F\n",
        "import matplotlib.pyplot as plt"
      ],
      "execution_count": 0,
      "outputs": []
    },
    {
      "metadata": {
        "colab_type": "text",
        "id": "QWKp_UGlWTyR"
      },
      "cell_type": "markdown",
      "source": [
        "**GPU Support**\n",
        "\n",
        "Training of large network can take a long time. PyTorch supports GPU with just a small amount of effort.\n",
        "\n",
        "When creating our networks, we will call \n",
        "`net.to(device)` to tell the network to train on the GPU, if one is available.  Note, if the network utilizes the GPU, it is important that any tensors we use with it (such as the data) also reside on the CPU.  Thus, a call like `images = images.to(device)` is necessary with any data we want to use with the GPU.\n",
        "\n",
        "Note: If you can't get access to a GPU, don't worry to much.  Since we use very small networks, the difference between CPU and GPU isn't large and in some cases GPU will actually be slower."
      ]
    },
    {
      "metadata": {
        "colab_type": "code",
        "id": "gbGGmnIXYca9",
        "outputId": "7116d858-7a56-40b4-fa4e-9e274990012d",
        "colab": {
          "base_uri": "https://localhost:8080/",
          "height": 34
        }
      },
      "cell_type": "code",
      "source": [
        "import torch.cuda as cuda\n",
        "# Use a GPU, i.e. cuda:0 device if it available.\n",
        "device = torch.device(\"cuda:0\" if cuda.is_available() else \"cpu\")\n",
        "print(device)"
      ],
      "execution_count": 17,
      "outputs": [
        {
          "output_type": "stream",
          "text": [
            "cuda:0\n"
          ],
          "name": "stdout"
        }
      ]
    },
    {
      "metadata": {
        "id": "jWxkvrNkpify",
        "colab_type": "text"
      },
      "cell_type": "markdown",
      "source": [
        "### Training Code"
      ]
    },
    {
      "metadata": {
        "cellView": "form",
        "colab_type": "code",
        "id": "_DZm8ammPCbL",
        "colab": {}
      },
      "cell_type": "code",
      "source": [
        "import time\n",
        "\n",
        "class Flatten(nn.Module):\n",
        "  \"\"\"NN Module that flattens the incoming tensor.\"\"\"\n",
        "  def forward(self, input):\n",
        "    return input.view(input.size(0), -1)\n",
        "  \n",
        "def train(model, train_loader, test_loader, loss_func, opt, num_epochs=10):\n",
        "  all_training_loss = np.zeros((0,2))\n",
        "  all_training_acc = np.zeros((0,2))\n",
        "  all_test_loss = np.zeros((0,2))\n",
        "  all_test_acc = np.zeros((0,2))\n",
        "  \n",
        "  training_step = 0\n",
        "  training_loss, training_acc = 2.0, 0.0\n",
        "  print_every = 1000\n",
        "  \n",
        "  start = time.clock()\n",
        "  \n",
        "  for i in range(num_epochs):\n",
        "    epoch_start = time.clock() \n",
        "   \n",
        "    model.train()\n",
        "    for images, labels in train_loader:\n",
        "      #print(images.size())   8, 3, 32, 32\n",
        "      images, labels = images.to(device), labels.to(device)\n",
        "      opt.zero_grad()\n",
        "\n",
        "      preds = model(images)\n",
        "      \n",
        "      loss = loss_func(preds, labels)\n",
        "      loss.backward()\n",
        "      opt.step()\n",
        "      \n",
        "      training_loss += loss.item()\n",
        "      training_acc += (torch.argmax(preds, dim=1)==labels).float().mean()\n",
        "      \n",
        "      if training_step % print_every == 0:\n",
        "        training_loss /= print_every\n",
        "        training_acc /= print_every\n",
        "        \n",
        "        all_training_loss = np.concatenate((all_training_loss, [[training_step, training_loss]]))\n",
        "        all_training_acc = np.concatenate((all_training_acc, [[training_step, training_acc]]))\n",
        "        \n",
        "        print('  Epoch %d @ step %d: Train Loss: %3f, Train Accuracy: %3f' % (\n",
        "            i, training_step, training_loss, training_acc))\n",
        "        training_loss, training_acc = 0.0, 0.0\n",
        "        \n",
        "      training_step+=1\n",
        "\n",
        "    model.eval()\n",
        "    with torch.no_grad():\n",
        "      validation_loss, validation_acc = 0.0, 0.0\n",
        "      count = 0\n",
        "      for images, labels in test_loader:\n",
        "        images, labels = images.to(device), labels.to(device)\n",
        "        output = model(images)\n",
        "        validation_loss+=loss_func(output,labels)\n",
        "        validation_acc+=(torch.argmax(output, dim=1) == labels).float().mean()\n",
        "        count += 1\n",
        "      validation_loss/=count\n",
        "      validation_acc/=count\n",
        "      \n",
        "      all_test_loss = np.concatenate((all_test_loss, [[training_step, validation_loss]]))\n",
        "      all_test_acc = np.concatenate((all_test_acc, [[training_step, validation_acc]]))\n",
        "      \n",
        "      epoch_time = time.clock() - epoch_start\n",
        "      \n",
        "      print('Epoch %d Test Loss: %3f, Test Accuracy: %3f, time: %.1fs' % (\n",
        "          i, validation_loss, validation_acc, epoch_time))\n",
        "      \n",
        "  total_time = time.clock() - start\n",
        "  print('Final Test Loss: %3f, Test Accuracy: %3f, Total time: %.1fs' % (\n",
        "      validation_loss, validation_acc, total_time))\n",
        "\n",
        "  return {'loss': { 'train': all_training_loss, 'test': all_test_loss },\n",
        "          'accuracy': { 'train': all_training_acc, 'test': all_test_acc }}\n",
        "\n",
        "def plot_graphs(model_name, metrics):\n",
        "  for metric, values in metrics.items():\n",
        "    for name, v in values.items():\n",
        "      plt.plot(v[:,0], v[:,1], label=name)\n",
        "    plt.title(f'{metric} for {model_name}')\n",
        "    plt.legend()\n",
        "    plt.xlabel(\"Training Steps\")\n",
        "    plt.ylabel(metric)\n",
        "    plt.show()\n",
        "    "
      ],
      "execution_count": 0,
      "outputs": []
    },
    {
      "metadata": {
        "colab_type": "text",
        "id": "1RupXQbCaXb3"
      },
      "cell_type": "markdown",
      "source": [
        "Load the** CIFA-10** dataset and define the transformations. You may also want to print its structure, size, as well as sample a few images to get a sense of how to design the network. "
      ]
    },
    {
      "metadata": {
        "colab_type": "code",
        "id": "mIJmLIgaZ_d3",
        "colab": {}
      },
      "cell_type": "code",
      "source": [
        "!mkdir hw10_data"
      ],
      "execution_count": 0,
      "outputs": []
    },
    {
      "metadata": {
        "id": "GdwQMEO8ol8J",
        "colab_type": "text"
      },
      "cell_type": "markdown",
      "source": [
        ""
      ]
    },
    {
      "metadata": {
        "colab_type": "code",
        "id": "aDBbPmPPaQuG",
        "outputId": "2ae1ca63-dad7-4bbf-f485-79611e30213b",
        "colab": {
          "base_uri": "https://localhost:8080/",
          "height": 1020
        }
      },
      "cell_type": "code",
      "source": [
        "# Download the data.\n",
        "from torchvision import datasets, transforms\n",
        "\n",
        "transformations = transforms.Compose(\n",
        "    [transforms.ToTensor(),\n",
        "     transforms.Normalize((0.5, 0.5, 0.5), (0.5, 0.5, 0.5))])\n",
        "train_set = datasets.CIFAR10(root='hw10_data/', download=True, transform=transformations)\n",
        "test_set = datasets.CIFAR10(root='hw10_data', download=True, train=False, transform=transformations)"
      ],
      "execution_count": 6,
      "outputs": [
        {
          "output_type": "stream",
          "text": [
            "\r0it [00:00, ?it/s]"
          ],
          "name": "stderr"
        },
        {
          "output_type": "stream",
          "text": [
            "Downloading https://www.cs.toronto.edu/~kriz/cifar-10-python.tar.gz to hw10_data/cifar-10-python.tar.gz\n"
          ],
          "name": "stdout"
        },
        {
          "output_type": "stream",
          "text": [
            "170500096it [00:09, 17686632.02it/s]                               \n"
          ],
          "name": "stderr"
        },
        {
          "output_type": "stream",
          "text": [
            "Files already downloaded and verified\n"
          ],
          "name": "stdout"
        }
      ]
    },
    {
      "metadata": {
        "colab_type": "text",
        "id": "dfomsGyJiKz9"
      },
      "cell_type": "markdown",
      "source": [
        "Use `DataLoader` to create a loader for the training set and a loader for the testing set. You can use a `batch_size` of 8 to start, and change it if you wish."
      ]
    },
    {
      "metadata": {
        "colab_type": "code",
        "id": "Ioe04mbSiQiV",
        "colab": {}
      },
      "cell_type": "code",
      "source": [
        "from torch.utils.data import DataLoader\n",
        "\n",
        "batch_size = 8\n",
        "train_loader = torch.utils.data.DataLoader(train_set, batch_size, shuffle=True, num_workers=2)\n",
        "test_loader = torch.utils.data.DataLoader(test_set, batch_size, shuffle=True, num_workers=2)\n",
        "\n",
        "input_shape = np.array(train_set[0][0]).shape\n",
        "input_dim = input_shape[1]*input_shape[2]*input_shape[0]\n"
      ],
      "execution_count": 0,
      "outputs": []
    },
    {
      "metadata": {
        "id": "EUkYg2xRpif6",
        "colab_type": "code",
        "outputId": "3ad6f450-6991-411b-afde-3e04e871dadf",
        "colab": {
          "base_uri": "https://localhost:8080/",
          "height": 34
        }
      },
      "cell_type": "code",
      "source": [
        "#train_set[0][0].size()"
      ],
      "execution_count": 8,
      "outputs": [
        {
          "output_type": "execute_result",
          "data": {
            "text/plain": [
              "torch.Size([3, 32, 32])"
            ]
          },
          "metadata": {
            "tags": []
          },
          "execution_count": 8
        }
      ]
    },
    {
      "metadata": {
        "colab_type": "code",
        "id": "fGoPdmuUOOiE",
        "colab": {}
      },
      "cell_type": "code",
      "source": [
        "training_epochs = 10"
      ],
      "execution_count": 0,
      "outputs": []
    },
    {
      "metadata": {
        "colab_type": "text",
        "id": "3T2-qkh8frqF"
      },
      "cell_type": "markdown",
      "source": [
        "## Part 1 CIFAR10 with Fully Connected Neural Netowrk (25 Points)\n",
        "\n",
        "As a warm-up, let's begin by training a two-layer fully connected neural network model on ** CIFAR-10** dataset. You may go back to check HW8 for some basics.\n",
        "\n",
        "We will give you this code to use as a baseline to compare against your CNN models."
      ]
    },
    {
      "metadata": {
        "colab_type": "code",
        "id": "Ck1CGpRycRFE",
        "outputId": "6134d025-70e3-496e-ccb2-a61fb84c9f0d",
        "colab": {
          "base_uri": "https://localhost:8080/",
          "height": 1275
        }
      },
      "cell_type": "code",
      "source": [
        "class TwoLayerModel(nn.Module):\n",
        "  def __init__(self):\n",
        "    super(TwoLayerModel, self).__init__()\n",
        "    self.net = nn.Sequential(\n",
        "      Flatten(), \n",
        "      nn.Linear(input_dim, 64), \n",
        "      nn.ReLU(), \n",
        "      nn.Linear(64, 10))\n",
        "    \n",
        "  def forward(self, x):\n",
        "    # print (x.size()) # 8, 3, 32, 32\n",
        "    # print (self.net(x).size())  # 8, 10\n",
        "    return self.net(x)\n",
        "\n",
        "model_p1 = TwoLayerModel().to(device)\n",
        "\n",
        "loss = nn.CrossEntropyLoss()\n",
        "optimizer = optim.RMSprop(model_p1.parameters(), lr=0.001, weight_decay=0.01)\n",
        "\n",
        "# Training epoch should be about 15-20 sec each on GPU.\n",
        "metrics = train(model_p1, train_loader, test_loader, loss, optimizer, training_epochs)"
      ],
      "execution_count": 21,
      "outputs": [
        {
          "output_type": "stream",
          "text": [
            "  Epoch 0 @ step 0: Train Loss: 0.004345, Train Accuracy: 0.000125\n",
            "  Epoch 0 @ step 1000: Train Loss: 1.942271, Train Accuracy: 0.327125\n",
            "  Epoch 0 @ step 2000: Train Loss: 1.807434, Train Accuracy: 0.349000\n",
            "  Epoch 0 @ step 3000: Train Loss: 1.787821, Train Accuracy: 0.366875\n",
            "  Epoch 0 @ step 4000: Train Loss: 1.785262, Train Accuracy: 0.358250\n",
            "  Epoch 0 @ step 5000: Train Loss: 1.762847, Train Accuracy: 0.371125\n",
            "  Epoch 0 @ step 6000: Train Loss: 1.755982, Train Accuracy: 0.374625\n",
            "Epoch 0 Test Loss: 1.739982, Test Accuracy: 0.373100, time: 16.4s\n",
            "  Epoch 1 @ step 7000: Train Loss: 1.746042, Train Accuracy: 0.375125\n",
            "  Epoch 1 @ step 8000: Train Loss: 1.753389, Train Accuracy: 0.376500\n",
            "  Epoch 1 @ step 9000: Train Loss: 1.755364, Train Accuracy: 0.371625\n",
            "  Epoch 1 @ step 10000: Train Loss: 1.737746, Train Accuracy: 0.382500\n",
            "  Epoch 1 @ step 11000: Train Loss: 1.768623, Train Accuracy: 0.368500\n",
            "  Epoch 1 @ step 12000: Train Loss: 1.748752, Train Accuracy: 0.372375\n",
            "Epoch 1 Test Loss: 1.738444, Test Accuracy: 0.379000, time: 17.6s\n",
            "  Epoch 2 @ step 13000: Train Loss: 1.732440, Train Accuracy: 0.380000\n",
            "  Epoch 2 @ step 14000: Train Loss: 1.746014, Train Accuracy: 0.373375\n",
            "  Epoch 2 @ step 15000: Train Loss: 1.730664, Train Accuracy: 0.380875\n",
            "  Epoch 2 @ step 16000: Train Loss: 1.744077, Train Accuracy: 0.382750\n",
            "  Epoch 2 @ step 17000: Train Loss: 1.754816, Train Accuracy: 0.374500\n",
            "  Epoch 2 @ step 18000: Train Loss: 1.750395, Train Accuracy: 0.380500\n",
            "Epoch 2 Test Loss: 1.701743, Test Accuracy: 0.393500, time: 17.5s\n",
            "  Epoch 3 @ step 19000: Train Loss: 1.744075, Train Accuracy: 0.370500\n",
            "  Epoch 3 @ step 20000: Train Loss: 1.730905, Train Accuracy: 0.383375\n",
            "  Epoch 3 @ step 21000: Train Loss: 1.740373, Train Accuracy: 0.376750\n",
            "  Epoch 3 @ step 22000: Train Loss: 1.719441, Train Accuracy: 0.390375\n",
            "  Epoch 3 @ step 23000: Train Loss: 1.747612, Train Accuracy: 0.373875\n",
            "  Epoch 3 @ step 24000: Train Loss: 1.741956, Train Accuracy: 0.377250\n",
            "Epoch 3 Test Loss: 1.750089, Test Accuracy: 0.380200, time: 16.5s\n",
            "  Epoch 4 @ step 25000: Train Loss: 1.729613, Train Accuracy: 0.380375\n",
            "  Epoch 4 @ step 26000: Train Loss: 1.714639, Train Accuracy: 0.387625\n",
            "  Epoch 4 @ step 27000: Train Loss: 1.743139, Train Accuracy: 0.381000\n",
            "  Epoch 4 @ step 28000: Train Loss: 1.736195, Train Accuracy: 0.384250\n",
            "  Epoch 4 @ step 29000: Train Loss: 1.741398, Train Accuracy: 0.382125\n",
            "  Epoch 4 @ step 30000: Train Loss: 1.734272, Train Accuracy: 0.379500\n",
            "  Epoch 4 @ step 31000: Train Loss: 1.746786, Train Accuracy: 0.382625\n",
            "Epoch 4 Test Loss: 1.690520, Test Accuracy: 0.390000, time: 16.8s\n",
            "  Epoch 5 @ step 32000: Train Loss: 1.731927, Train Accuracy: 0.379250\n",
            "  Epoch 5 @ step 33000: Train Loss: 1.719430, Train Accuracy: 0.380500\n",
            "  Epoch 5 @ step 34000: Train Loss: 1.748325, Train Accuracy: 0.385125\n",
            "  Epoch 5 @ step 35000: Train Loss: 1.721365, Train Accuracy: 0.394000\n",
            "  Epoch 5 @ step 36000: Train Loss: 1.728835, Train Accuracy: 0.378000\n",
            "  Epoch 5 @ step 37000: Train Loss: 1.748506, Train Accuracy: 0.373250\n",
            "Epoch 5 Test Loss: 1.679093, Test Accuracy: 0.400000, time: 17.2s\n",
            "  Epoch 6 @ step 38000: Train Loss: 1.726302, Train Accuracy: 0.382125\n",
            "  Epoch 6 @ step 39000: Train Loss: 1.744586, Train Accuracy: 0.375250\n",
            "  Epoch 6 @ step 40000: Train Loss: 1.732101, Train Accuracy: 0.386875\n",
            "  Epoch 6 @ step 41000: Train Loss: 1.746789, Train Accuracy: 0.377500\n",
            "  Epoch 6 @ step 42000: Train Loss: 1.736502, Train Accuracy: 0.381125\n",
            "  Epoch 6 @ step 43000: Train Loss: 1.729209, Train Accuracy: 0.382375\n",
            "Epoch 6 Test Loss: 1.693650, Test Accuracy: 0.395900, time: 16.6s\n",
            "  Epoch 7 @ step 44000: Train Loss: 1.721594, Train Accuracy: 0.385875\n",
            "  Epoch 7 @ step 45000: Train Loss: 1.729567, Train Accuracy: 0.378875\n",
            "  Epoch 7 @ step 46000: Train Loss: 1.726004, Train Accuracy: 0.385750\n",
            "  Epoch 7 @ step 47000: Train Loss: 1.754408, Train Accuracy: 0.386000\n",
            "  Epoch 7 @ step 48000: Train Loss: 1.754043, Train Accuracy: 0.367625\n",
            "  Epoch 7 @ step 49000: Train Loss: 1.725152, Train Accuracy: 0.389625\n",
            "Epoch 7 Test Loss: 1.729911, Test Accuracy: 0.389000, time: 17.1s\n",
            "  Epoch 8 @ step 50000: Train Loss: 1.718178, Train Accuracy: 0.381875\n",
            "  Epoch 8 @ step 51000: Train Loss: 1.728403, Train Accuracy: 0.382125\n",
            "  Epoch 8 @ step 52000: Train Loss: 1.733033, Train Accuracy: 0.386500\n",
            "  Epoch 8 @ step 53000: Train Loss: 1.740028, Train Accuracy: 0.380625\n",
            "  Epoch 8 @ step 54000: Train Loss: 1.719169, Train Accuracy: 0.390500\n",
            "  Epoch 8 @ step 55000: Train Loss: 1.724715, Train Accuracy: 0.379750\n",
            "  Epoch 8 @ step 56000: Train Loss: 1.744411, Train Accuracy: 0.376625\n",
            "Epoch 8 Test Loss: 1.734539, Test Accuracy: 0.384100, time: 17.5s\n",
            "  Epoch 9 @ step 57000: Train Loss: 1.738004, Train Accuracy: 0.376125\n",
            "  Epoch 9 @ step 58000: Train Loss: 1.723942, Train Accuracy: 0.385125\n",
            "  Epoch 9 @ step 59000: Train Loss: 1.753699, Train Accuracy: 0.372625\n",
            "  Epoch 9 @ step 60000: Train Loss: 1.732970, Train Accuracy: 0.377125\n",
            "  Epoch 9 @ step 61000: Train Loss: 1.721300, Train Accuracy: 0.387375\n",
            "  Epoch 9 @ step 62000: Train Loss: 1.731268, Train Accuracy: 0.375750\n",
            "Epoch 9 Test Loss: 1.742039, Test Accuracy: 0.387100, time: 16.5s\n",
            "Final Test Loss: 1.742039, Test Accuracy: 0.387100, Total time: 169.8s\n"
          ],
          "name": "stdout"
        }
      ]
    },
    {
      "metadata": {
        "colab_type": "text",
        "id": "qjbncuMnKpf7"
      },
      "cell_type": "markdown",
      "source": [
        "**Plot the model results**\n",
        "\n",
        "Normally we would want to use Tensorboard for looking at metrics.  However, if colab reset while we are working, we might lose our logs and therefore our metrics.  Let's just plot some graphs that will survive across colab instances."
      ]
    },
    {
      "metadata": {
        "colab_type": "code",
        "id": "CuVL9MJ_D92h",
        "colab": {
          "base_uri": "https://localhost:8080/",
          "height": 573
        },
        "outputId": "88f73feb-da7b-48aa-8464-bc6f605f6815"
      },
      "cell_type": "code",
      "source": [
        "plot_graphs(\"TwoLayerModel\", metrics)"
      ],
      "execution_count": 26,
      "outputs": [
        {
          "output_type": "display_data",
          "data": {
            "image/png": "[encoded data removed]",
            "text/plain": [
              "<Figure size 432x288 with 1 Axes>"
            ]
          },
          "metadata": {
            "tags": []
          }
        },
        {
          "output_type": "display_data",
          "data": {
            "image/png": "[encoded data removed]",
            "text/plain": [
              "<Figure size 432x288 with 1 Axes>"
            ]
          },
          "metadata": {
            "tags": []
          }
        }
      ]
    },
    {
      "metadata": {
        "colab_type": "text",
        "id": "4_xi8bkkfsM7"
      },
      "cell_type": "markdown",
      "source": [
        "## Part 2 Convolutional Neural Network (CNN) (35 Points)\n",
        "\n",
        "Now, let's design a convolution neural netwrok!\n",
        "\n",
        "Build a simple CNN model, inserting 2 CNN layers in from of our 2 layer fully connect model from above:\n",
        "\n",
        "1. A convolution with\t3x3 filter, 16 output channels, stride = 1, padding=1\n",
        "2. A ReLU activation\n",
        "2. A Max-Pooling layer with 2x2 window\n",
        "3. A convolution,\t3x3 filter, 16 output channels, stride = 1, padding=1\n",
        "4. A ReLU activation\n",
        "4. Flatten layer\n",
        "5. Fully connected linear layer with output size 64\n",
        "6. ReLU\n",
        "7. Fully connected linear layer, with output size 10\n",
        "\n",
        "You will have to figure out the input sizes of the first fully connnected layer based on the previous layer sizes. Note that you also need to fill those in the report section (see report section in the notebook for details) "
      ]
    },
    {
      "metadata": {
        "colab_type": "code",
        "id": "tLXjjywngO7g",
        "colab": {
          "base_uri": "https://localhost:8080/",
          "height": 1275
        },
        "outputId": "63041415-0b87-4272-bb3b-b7bbd3961c97"
      },
      "cell_type": "code",
      "source": [
        "class ConvModel(nn.Module):\n",
        "  # Your Code Here\n",
        "    def __init__(self):\n",
        "        super(ConvModel, self).__init__()\n",
        "        self.net = nn.Sequential(   # batchSize is not relevant\n",
        "            nn.Conv2d(3,16,3,stride=1,padding=1),  # 3, 32, 32 -> 16, 32, 32\n",
        "            nn.ReLU(), \n",
        "            nn.MaxPool2d((2, 2)),  #  16, 32, 32 -> 16, 16, 16\n",
        "            nn.Conv2d(16,16,3,stride=1,padding=1),  # 16, 16, 16 -> 16, 16, 16\n",
        "            nn.ReLU(),\n",
        "            Flatten(),   # 16, 16, 16 -> 16 * 16 * 16\n",
        "            nn.Linear(16*16*16, 64),\n",
        "            nn.ReLU(),\n",
        "            nn.Linear(64, 10))\n",
        "    def forward(self, x):\n",
        "        return self.net(x)\n",
        "    \n",
        "\n",
        "model_p2 = ConvModel().to(device)\n",
        "\n",
        "\n",
        "loss = nn.CrossEntropyLoss()\n",
        "optimizer = optim.RMSprop(model_p2.parameters(), lr=0.001, weight_decay=0.01)\n",
        "\n",
        "metrics = train(model_p2, train_loader, test_loader, loss, optimizer, training_epochs)"
      ],
      "execution_count": 33,
      "outputs": [
        {
          "output_type": "stream",
          "text": [
            "  Epoch 0 @ step 0: Train Loss: 0.004294, Train Accuracy: 0.000250\n",
            "  Epoch 0 @ step 1000: Train Loss: 1.921589, Train Accuracy: 0.285625\n",
            "  Epoch 0 @ step 2000: Train Loss: 1.623794, Train Accuracy: 0.413500\n",
            "  Epoch 0 @ step 3000: Train Loss: 1.511500, Train Accuracy: 0.450250\n",
            "  Epoch 0 @ step 4000: Train Loss: 1.489369, Train Accuracy: 0.456000\n",
            "  Epoch 0 @ step 5000: Train Loss: 1.441640, Train Accuracy: 0.477625\n",
            "  Epoch 0 @ step 6000: Train Loss: 1.427285, Train Accuracy: 0.482625\n",
            "Epoch 0 Test Loss: 1.387939, Test Accuracy: 0.497600, time: 25.9s\n",
            "  Epoch 1 @ step 7000: Train Loss: 1.422875, Train Accuracy: 0.489125\n",
            "  Epoch 1 @ step 8000: Train Loss: 1.421956, Train Accuracy: 0.484500\n",
            "  Epoch 1 @ step 9000: Train Loss: 1.380485, Train Accuracy: 0.500500\n",
            "  Epoch 1 @ step 10000: Train Loss: 1.368109, Train Accuracy: 0.509500\n",
            "  Epoch 1 @ step 11000: Train Loss: 1.366585, Train Accuracy: 0.506000\n",
            "  Epoch 1 @ step 12000: Train Loss: 1.343952, Train Accuracy: 0.504625\n",
            "Epoch 1 Test Loss: 1.329941, Test Accuracy: 0.522600, time: 24.6s\n",
            "  Epoch 2 @ step 13000: Train Loss: 1.362591, Train Accuracy: 0.511250\n",
            "  Epoch 2 @ step 14000: Train Loss: 1.346577, Train Accuracy: 0.512125\n",
            "  Epoch 2 @ step 15000: Train Loss: 1.325818, Train Accuracy: 0.518750\n",
            "  Epoch 2 @ step 16000: Train Loss: 1.320454, Train Accuracy: 0.525125\n",
            "  Epoch 2 @ step 17000: Train Loss: 1.303454, Train Accuracy: 0.536500\n",
            "  Epoch 2 @ step 18000: Train Loss: 1.309469, Train Accuracy: 0.531250\n",
            "Epoch 2 Test Loss: 1.335715, Test Accuracy: 0.514100, time: 25.2s\n",
            "  Epoch 3 @ step 19000: Train Loss: 1.302150, Train Accuracy: 0.531625\n",
            "  Epoch 3 @ step 20000: Train Loss: 1.272636, Train Accuracy: 0.537750\n",
            "  Epoch 3 @ step 21000: Train Loss: 1.293823, Train Accuracy: 0.536125\n",
            "  Epoch 3 @ step 22000: Train Loss: 1.284103, Train Accuracy: 0.543375\n",
            "  Epoch 3 @ step 23000: Train Loss: 1.262911, Train Accuracy: 0.541750\n",
            "  Epoch 3 @ step 24000: Train Loss: 1.284627, Train Accuracy: 0.536750\n",
            "Epoch 3 Test Loss: 1.214557, Test Accuracy: 0.569800, time: 23.5s\n",
            "  Epoch 4 @ step 25000: Train Loss: 1.291205, Train Accuracy: 0.535750\n",
            "  Epoch 4 @ step 26000: Train Loss: 1.272943, Train Accuracy: 0.547125\n",
            "  Epoch 4 @ step 27000: Train Loss: 1.255765, Train Accuracy: 0.544875\n",
            "  Epoch 4 @ step 28000: Train Loss: 1.263445, Train Accuracy: 0.552750\n",
            "  Epoch 4 @ step 29000: Train Loss: 1.272793, Train Accuracy: 0.538375\n",
            "  Epoch 4 @ step 30000: Train Loss: 1.255379, Train Accuracy: 0.549625\n",
            "  Epoch 4 @ step 31000: Train Loss: 1.243925, Train Accuracy: 0.559125\n",
            "Epoch 4 Test Loss: 1.248068, Test Accuracy: 0.562200, time: 23.1s\n",
            "  Epoch 5 @ step 32000: Train Loss: 1.225490, Train Accuracy: 0.557000\n",
            "  Epoch 5 @ step 33000: Train Loss: 1.240245, Train Accuracy: 0.551000\n",
            "  Epoch 5 @ step 34000: Train Loss: 1.249308, Train Accuracy: 0.550875\n",
            "  Epoch 5 @ step 35000: Train Loss: 1.262442, Train Accuracy: 0.553500\n",
            "  Epoch 5 @ step 36000: Train Loss: 1.235735, Train Accuracy: 0.560625\n",
            "  Epoch 5 @ step 37000: Train Loss: 1.237192, Train Accuracy: 0.557375\n",
            "Epoch 5 Test Loss: 1.188903, Test Accuracy: 0.579100, time: 25.7s\n",
            "  Epoch 6 @ step 38000: Train Loss: 1.234502, Train Accuracy: 0.560250\n",
            "  Epoch 6 @ step 39000: Train Loss: 1.220246, Train Accuracy: 0.564250\n",
            "  Epoch 6 @ step 40000: Train Loss: 1.229750, Train Accuracy: 0.560125\n",
            "  Epoch 6 @ step 41000: Train Loss: 1.259004, Train Accuracy: 0.550875\n",
            "  Epoch 6 @ step 42000: Train Loss: 1.229543, Train Accuracy: 0.550750\n",
            "  Epoch 6 @ step 43000: Train Loss: 1.233037, Train Accuracy: 0.560000\n",
            "Epoch 6 Test Loss: 1.197582, Test Accuracy: 0.575900, time: 23.2s\n",
            "  Epoch 7 @ step 44000: Train Loss: 1.237744, Train Accuracy: 0.554625\n",
            "  Epoch 7 @ step 45000: Train Loss: 1.225915, Train Accuracy: 0.564000\n",
            "  Epoch 7 @ step 46000: Train Loss: 1.237121, Train Accuracy: 0.555125\n",
            "  Epoch 7 @ step 47000: Train Loss: 1.225829, Train Accuracy: 0.560125\n",
            "  Epoch 7 @ step 48000: Train Loss: 1.224247, Train Accuracy: 0.560625\n",
            "  Epoch 7 @ step 49000: Train Loss: 1.225143, Train Accuracy: 0.565875\n",
            "Epoch 7 Test Loss: 1.280526, Test Accuracy: 0.532400, time: 24.8s\n",
            "  Epoch 8 @ step 50000: Train Loss: 1.243769, Train Accuracy: 0.557375\n",
            "  Epoch 8 @ step 51000: Train Loss: 1.203871, Train Accuracy: 0.569625\n",
            "  Epoch 8 @ step 52000: Train Loss: 1.233821, Train Accuracy: 0.557750\n",
            "  Epoch 8 @ step 53000: Train Loss: 1.208240, Train Accuracy: 0.569125\n",
            "  Epoch 8 @ step 54000: Train Loss: 1.232110, Train Accuracy: 0.561250\n",
            "  Epoch 8 @ step 55000: Train Loss: 1.207756, Train Accuracy: 0.566125\n",
            "  Epoch 8 @ step 56000: Train Loss: 1.218650, Train Accuracy: 0.562125\n",
            "Epoch 8 Test Loss: 1.204899, Test Accuracy: 0.572700, time: 24.2s\n",
            "  Epoch 9 @ step 57000: Train Loss: 1.190265, Train Accuracy: 0.575875\n",
            "  Epoch 9 @ step 58000: Train Loss: 1.200921, Train Accuracy: 0.575125\n",
            "  Epoch 9 @ step 59000: Train Loss: 1.202463, Train Accuracy: 0.571000\n",
            "  Epoch 9 @ step 60000: Train Loss: 1.215970, Train Accuracy: 0.570000\n",
            "  Epoch 9 @ step 61000: Train Loss: 1.215637, Train Accuracy: 0.565000\n",
            "  Epoch 9 @ step 62000: Train Loss: 1.223061, Train Accuracy: 0.570000\n",
            "Epoch 9 Test Loss: 1.347890, Test Accuracy: 0.528700, time: 24.0s\n",
            "Final Test Loss: 1.347890, Test Accuracy: 0.528700, Total time: 244.4s\n"
          ],
          "name": "stdout"
        }
      ]
    },
    {
      "metadata": {
        "id": "VzltRgYqcD_z",
        "colab_type": "code",
        "colab": {
          "base_uri": "https://localhost:8080/",
          "height": 448
        },
        "outputId": "17d6f572-b4e8-4bc4-c9e7-964761e8c7a1"
      },
      "cell_type": "code",
      "source": [
        "!pip install torchsummary\n",
        "from torchsummary import summary\n",
        "summary(model_p2, input_size=(3, 32, 32))"
      ],
      "execution_count": 37,
      "outputs": [
        {
          "output_type": "stream",
          "text": [
            "Requirement already satisfied: torchsummary in /usr/local/lib/python3.6/dist-packages (1.5.1)\n",
            "----------------------------------------------------------------\n",
            "        Layer (type)               Output Shape         Param #\n",
            "================================================================\n",
            "            Conv2d-1           [-1, 16, 32, 32]             448\n",
            "              ReLU-2           [-1, 16, 32, 32]               0\n",
            "         MaxPool2d-3           [-1, 16, 16, 16]               0\n",
            "            Conv2d-4           [-1, 16, 16, 16]           2,320\n",
            "              ReLU-5           [-1, 16, 16, 16]               0\n",
            "           Flatten-6                 [-1, 4096]               0\n",
            "            Linear-7                   [-1, 64]         262,208\n",
            "              ReLU-8                   [-1, 64]               0\n",
            "            Linear-9                   [-1, 10]             650\n",
            "================================================================\n",
            "Total params: 265,626\n",
            "Trainable params: 265,626\n",
            "Non-trainable params: 0\n",
            "----------------------------------------------------------------\n",
            "Input size (MB): 0.01\n",
            "Forward/backward pass size (MB): 0.38\n",
            "Params size (MB): 1.01\n",
            "Estimated Total Size (MB): 1.40\n",
            "----------------------------------------------------------------\n"
          ],
          "name": "stdout"
        }
      ]
    },
    {
      "metadata": {
        "id": "wGvM4vDTzj2_",
        "colab_type": "text"
      },
      "cell_type": "markdown",
      "source": [
        ""
      ]
    },
    {
      "metadata": {
        "colab_type": "code",
        "id": "8BGTJw-TPTfh",
        "colab": {
          "base_uri": "https://localhost:8080/",
          "height": 573
        },
        "outputId": "da179d20-628e-4de0-e634-2d83bf2b3dda"
      },
      "cell_type": "code",
      "source": [
        "plot_graphs(\"ConvModel\", metrics)"
      ],
      "execution_count": 38,
      "outputs": [
        {
          "output_type": "display_data",
          "data": {
            "image/png": "[encoded data removed]",
            "text/plain": [
              "<Figure size 432x288 with 1 Axes>"
            ]
          },
          "metadata": {
            "tags": []
          }
        },
        {
          "output_type": "display_data",
          "data": {
            "image/png": "[encoded data removed]",
            "text/plain": [
              "<Figure size 432x288 with 1 Axes>"
            ]
          },
          "metadata": {
            "tags": []
          }
        }
      ]
    },
    {
      "metadata": {
        "colab_type": "text",
        "id": "oFAc6IORmzCJ"
      },
      "cell_type": "markdown",
      "source": [
        "Do you notice the improvement over the accuracy compared to that in Part 1?"
      ]
    },
    {
      "metadata": {
        "colab_type": "text",
        "id": "hXpJgsjhftDP"
      },
      "cell_type": "markdown",
      "source": [
        "## Part 3 Open Design Competition (35 Points + 10 bonus points)\n",
        "\n",
        "Try to beat the previous models by adding additional layers, changing parameters, etc.  You should add at least one layer.\n",
        "\n",
        "Possible changes include:\n",
        "*   Dropout\n",
        "*   Batch Normalization\n",
        "*   More layers\n",
        "*   Residual Connections (harder)\n",
        "*   Change layer size\n",
        "*   Pooling layers, stride\n",
        "*   Different optimizer\n",
        "*   Train for longer\n",
        "\n",
        "Once you have a model you think is great, evaluate it against our hidden test data (see hidden_loader above) and upload the results to the leader board on gradescope.  **The top 3 scorers will get a bonus 10 points.**\n",
        "\n",
        "You can steal model structures found on the internet if you want.  The only constraint is that **you must train the model from scratch**.\n"
      ]
    },
    {
      "metadata": {
        "colab_type": "text",
        "id": "xbx5REUdc-Xs"
      },
      "cell_type": "markdown",
      "source": [
        "###### **What changes did you make to improve your model?**\n",
        "\n"
      ]
    },
    {
      "metadata": {
        "id": "CgmdBo7jxNfe",
        "colab_type": "code",
        "colab": {
          "base_uri": "https://localhost:8080/",
          "height": 2261
        },
        "outputId": "030ceb2c-1d51-4356-c87e-35087b61edc6"
      },
      "cell_type": "code",
      "source": [
        "###### You Awesome Super Best model code here\n",
        "class BaseNet(nn.Module):\n",
        "    \"\"\"BaseNet.\"\"\"\n",
        "\n",
        "    def __init__(self):\n",
        "        \"\"\"Basenet Builder.\"\"\"\n",
        "        super(BaseNet, self).__init__()\n",
        "\n",
        "        # Do not have a maxpool layer after every conv layer in your\n",
        "        # deeper network as it leads to too much loss of information.\n",
        "\n",
        "        self.vgg16bn_net = nn.Sequential(\n",
        "\n",
        "            # Conv Layer 1\n",
        "            nn.Conv2d(in_channels=3, out_channels=64, kernel_size=3, padding=1),\n",
        "            nn.ReLU(inplace=True),\n",
        "            nn.Conv2d(in_channels=64, out_channels=64, kernel_size=3, padding=1),\n",
        "            nn.BatchNorm2d(64),\n",
        "            nn.ReLU(inplace=True),\n",
        "            nn.MaxPool2d(kernel_size=2, stride=2),\n",
        "\n",
        "            # Conv Layer 2\n",
        "            nn.Conv2d(in_channels=64, out_channels=128, kernel_size=3, padding=1),\n",
        "            nn.BatchNorm2d(128),\n",
        "            nn.ReLU(inplace=True),\n",
        "            nn.Conv2d(in_channels=128, out_channels=128, kernel_size=3, padding=1),\n",
        "            nn.ReLU(inplace=True),\n",
        "            nn.Conv2d(in_channels=128, out_channels=128, kernel_size=3, padding=1),\n",
        "            nn.BatchNorm2d(128),\n",
        "            nn.ReLU(inplace=True),\n",
        "            nn.MaxPool2d(kernel_size=2, stride=2),\n",
        "\n",
        "            # Conv Layer 3\n",
        "            nn.Conv2d(in_channels=128, out_channels=256, kernel_size=3, padding=1),\n",
        "            nn.BatchNorm2d(256),\n",
        "            nn.ReLU(inplace=True),\n",
        "            nn.Conv2d(in_channels=256, out_channels=256, kernel_size=3, padding=1),\n",
        "            nn.ReLU(inplace=True),\n",
        "            nn.Conv2d(in_channels=256, out_channels=256, kernel_size=3, padding=1),\n",
        "            nn.BatchNorm2d(256),\n",
        "            nn.ReLU(inplace=True),\n",
        "            nn.MaxPool2d(kernel_size=2, stride=2),\n",
        "\n",
        "            # Conv Layer 4\n",
        "            nn.Conv2d(in_channels=256, out_channels=512, kernel_size=3, padding=1),\n",
        "            nn.BatchNorm2d(512),\n",
        "            nn.ReLU(inplace=True),\n",
        "            nn.Conv2d(in_channels=512, out_channels=512, kernel_size=3, padding=1),\n",
        "            nn.ReLU(inplace=True),\n",
        "            nn.Conv2d(in_channels=512, out_channels=512, kernel_size=3, padding=1),\n",
        "            nn.BatchNorm2d(512),\n",
        "            nn.ReLU(inplace=True),\n",
        "            nn.MaxPool2d(kernel_size=2, stride=2),\n",
        "\n",
        "            # Conv Layer 5\n",
        "            nn.Conv2d(in_channels=512, out_channels=512, kernel_size=3, padding=1),\n",
        "            nn.BatchNorm2d(512),\n",
        "            nn.ReLU(inplace=True),\n",
        "            nn.Conv2d(in_channels=512, out_channels=512, kernel_size=3, padding=1),\n",
        "            nn.ReLU(inplace=True),\n",
        "            nn.Conv2d(in_channels=512, out_channels=512, kernel_size=3, padding=1),\n",
        "            nn.BatchNorm2d(512),\n",
        "            nn.ReLU(inplace=True),\n",
        "            nn.MaxPool2d(kernel_size=2, stride=2),\n",
        "        )\n",
        "\n",
        "        # <<TODO#3>> Add more linear (fc) layers\n",
        "        # <<TODO#4>> Add normalization layers after linear and\n",
        "        # experiment inserting them before or after ReLU (nn.BatchNorm1d)\n",
        "\n",
        "        self.fc_net = nn.Sequential(\n",
        "            nn.Dropout(),\n",
        "            nn.Linear(512, 256),\n",
        "            nn.BatchNorm1d(256),\n",
        "            nn.ReLU(inplace=True),\n",
        "            nn.Linear(256, 128),\n",
        "            nn.BatchNorm1d(128),\n",
        "            nn.ReLU(inplace=True),\n",
        "            nn.Linear(128, 10)\n",
        "        )\n",
        "\n",
        "    def forward(self, x):\n",
        "        \"\"\"Perform forward.\"\"\"\n",
        "        x = self.vgg16bn_net(x)\n",
        "        x = x.view(x.size(0), -1)\n",
        "        x = self.fc_net(x)\n",
        "\n",
        "        # No softmax is needed as the loss function\n",
        "        # takes care of that\n",
        "        return x\n",
        "      \n",
        "model_p6 = BaseNet().to(device)\n",
        "\n",
        "loss = nn.CrossEntropyLoss()\n",
        "optimizer = optim.SGD(model_p6.parameters(), lr=0.01, momentum=0.9, weight_decay=5e-4)\n",
        "\n",
        "metrics_p6 = train(model_p6, train_loader, test_loader, loss, optimizer, num_epochs=18)"
      ],
      "execution_count": 43,
      "outputs": [
        {
          "output_type": "stream",
          "text": [
            "  Epoch 0 @ step 0: Train Loss: 0.004311, Train Accuracy: 0.000125\n",
            "  Epoch 0 @ step 1000: Train Loss: 2.153755, Train Accuracy: 0.164500\n",
            "  Epoch 0 @ step 2000: Train Loss: 2.028822, Train Accuracy: 0.188375\n",
            "  Epoch 0 @ step 3000: Train Loss: 1.976359, Train Accuracy: 0.195625\n",
            "  Epoch 0 @ step 4000: Train Loss: 1.939045, Train Accuracy: 0.220875\n",
            "  Epoch 0 @ step 5000: Train Loss: 1.933198, Train Accuracy: 0.231000\n",
            "  Epoch 0 @ step 6000: Train Loss: 1.920576, Train Accuracy: 0.228750\n",
            "Epoch 0 Test Loss: 1.856143, Test Accuracy: 0.232200, time: 145.3s\n",
            "  Epoch 1 @ step 7000: Train Loss: 1.885017, Train Accuracy: 0.235125\n",
            "  Epoch 1 @ step 8000: Train Loss: 1.887836, Train Accuracy: 0.239125\n",
            "  Epoch 1 @ step 9000: Train Loss: 1.861805, Train Accuracy: 0.262750\n",
            "  Epoch 1 @ step 10000: Train Loss: 1.828380, Train Accuracy: 0.278250\n",
            "  Epoch 1 @ step 11000: Train Loss: 1.776486, Train Accuracy: 0.287000\n",
            "  Epoch 1 @ step 12000: Train Loss: 1.733618, Train Accuracy: 0.309875\n",
            "Epoch 1 Test Loss: 1.670277, Test Accuracy: 0.312500, time: 145.4s\n",
            "  Epoch 2 @ step 13000: Train Loss: 1.701197, Train Accuracy: 0.312125\n",
            "  Epoch 2 @ step 14000: Train Loss: 1.667492, Train Accuracy: 0.332375\n",
            "  Epoch 2 @ step 15000: Train Loss: 1.635701, Train Accuracy: 0.351750\n",
            "  Epoch 2 @ step 16000: Train Loss: 1.602172, Train Accuracy: 0.380000\n",
            "  Epoch 2 @ step 17000: Train Loss: 1.570478, Train Accuracy: 0.400000\n",
            "  Epoch 2 @ step 18000: Train Loss: 1.539204, Train Accuracy: 0.425625\n",
            "Epoch 2 Test Loss: 1.340394, Test Accuracy: 0.501700, time: 145.5s\n",
            "  Epoch 3 @ step 19000: Train Loss: 1.495374, Train Accuracy: 0.442625\n",
            "  Epoch 3 @ step 20000: Train Loss: 1.465883, Train Accuracy: 0.457750\n",
            "  Epoch 3 @ step 21000: Train Loss: 1.440692, Train Accuracy: 0.486375\n",
            "  Epoch 3 @ step 22000: Train Loss: 1.372927, Train Accuracy: 0.508875\n",
            "  Epoch 3 @ step 23000: Train Loss: 1.360251, Train Accuracy: 0.516500\n",
            "  Epoch 3 @ step 24000: Train Loss: 1.334158, Train Accuracy: 0.526750\n",
            "Epoch 3 Test Loss: 1.242783, Test Accuracy: 0.555400, time: 145.1s\n",
            "  Epoch 4 @ step 25000: Train Loss: 1.315098, Train Accuracy: 0.542125\n",
            "  Epoch 4 @ step 26000: Train Loss: 1.276764, Train Accuracy: 0.548500\n",
            "  Epoch 4 @ step 27000: Train Loss: 1.279038, Train Accuracy: 0.548500\n",
            "  Epoch 4 @ step 28000: Train Loss: 1.271076, Train Accuracy: 0.554250\n",
            "  Epoch 4 @ step 29000: Train Loss: 1.271596, Train Accuracy: 0.555875\n",
            "  Epoch 4 @ step 30000: Train Loss: 1.220681, Train Accuracy: 0.576500\n",
            "  Epoch 4 @ step 31000: Train Loss: 1.221605, Train Accuracy: 0.574125\n",
            "Epoch 4 Test Loss: 1.067623, Test Accuracy: 0.622400, time: 145.4s\n",
            "  Epoch 5 @ step 32000: Train Loss: 1.182109, Train Accuracy: 0.587500\n",
            "  Epoch 5 @ step 33000: Train Loss: 1.193096, Train Accuracy: 0.593125\n",
            "  Epoch 5 @ step 34000: Train Loss: 1.150523, Train Accuracy: 0.602000\n",
            "  Epoch 5 @ step 35000: Train Loss: 1.157931, Train Accuracy: 0.601375\n",
            "  Epoch 5 @ step 36000: Train Loss: 1.134181, Train Accuracy: 0.613125\n",
            "  Epoch 5 @ step 37000: Train Loss: 1.159921, Train Accuracy: 0.605750\n",
            "Epoch 5 Test Loss: 0.989807, Test Accuracy: 0.659000, time: 145.5s\n",
            "  Epoch 6 @ step 38000: Train Loss: 1.135180, Train Accuracy: 0.616875\n",
            "  Epoch 6 @ step 39000: Train Loss: 1.093963, Train Accuracy: 0.624625\n",
            "  Epoch 6 @ step 40000: Train Loss: 1.075564, Train Accuracy: 0.635000\n",
            "  Epoch 6 @ step 41000: Train Loss: 1.085454, Train Accuracy: 0.639375\n",
            "  Epoch 6 @ step 42000: Train Loss: 1.067428, Train Accuracy: 0.645250\n",
            "  Epoch 6 @ step 43000: Train Loss: 1.069915, Train Accuracy: 0.642000\n",
            "Epoch 6 Test Loss: 1.032719, Test Accuracy: 0.652700, time: 146.0s\n",
            "  Epoch 7 @ step 44000: Train Loss: 1.044692, Train Accuracy: 0.656000\n",
            "  Epoch 7 @ step 45000: Train Loss: 1.020606, Train Accuracy: 0.671000\n",
            "  Epoch 7 @ step 46000: Train Loss: 1.017696, Train Accuracy: 0.669625\n",
            "  Epoch 7 @ step 47000: Train Loss: 1.013172, Train Accuracy: 0.671625\n",
            "  Epoch 7 @ step 48000: Train Loss: 0.993693, Train Accuracy: 0.673125\n",
            "  Epoch 7 @ step 49000: Train Loss: 0.978676, Train Accuracy: 0.682875\n",
            "Epoch 7 Test Loss: 0.949315, Test Accuracy: 0.693100, time: 145.6s\n",
            "  Epoch 8 @ step 50000: Train Loss: 1.009959, Train Accuracy: 0.676250\n",
            "  Epoch 8 @ step 51000: Train Loss: 0.971051, Train Accuracy: 0.684875\n",
            "  Epoch 8 @ step 52000: Train Loss: 0.941025, Train Accuracy: 0.696125\n",
            "  Epoch 8 @ step 53000: Train Loss: 0.977388, Train Accuracy: 0.687000\n",
            "  Epoch 8 @ step 54000: Train Loss: 0.955718, Train Accuracy: 0.695875\n",
            "  Epoch 8 @ step 55000: Train Loss: 0.940139, Train Accuracy: 0.692500\n",
            "  Epoch 8 @ step 56000: Train Loss: 0.913949, Train Accuracy: 0.704500\n",
            "Epoch 8 Test Loss: 0.799280, Test Accuracy: 0.738500, time: 145.3s\n",
            "  Epoch 9 @ step 57000: Train Loss: 0.912809, Train Accuracy: 0.705125\n",
            "  Epoch 9 @ step 58000: Train Loss: 0.908252, Train Accuracy: 0.707125\n",
            "  Epoch 9 @ step 59000: Train Loss: 0.906506, Train Accuracy: 0.712250\n",
            "  Epoch 9 @ step 60000: Train Loss: 0.897526, Train Accuracy: 0.719375\n",
            "  Epoch 9 @ step 61000: Train Loss: 0.918195, Train Accuracy: 0.706375\n",
            "  Epoch 9 @ step 62000: Train Loss: 0.912559, Train Accuracy: 0.708750\n",
            "Epoch 9 Test Loss: 0.802864, Test Accuracy: 0.738300, time: 145.0s\n",
            "  Epoch 10 @ step 63000: Train Loss: 0.874602, Train Accuracy: 0.719000\n",
            "  Epoch 10 @ step 64000: Train Loss: 0.874672, Train Accuracy: 0.718750\n",
            "  Epoch 10 @ step 65000: Train Loss: 0.877583, Train Accuracy: 0.719375\n",
            "  Epoch 10 @ step 66000: Train Loss: 0.881630, Train Accuracy: 0.718875\n",
            "  Epoch 10 @ step 67000: Train Loss: 0.886638, Train Accuracy: 0.712625\n",
            "  Epoch 10 @ step 68000: Train Loss: 0.858930, Train Accuracy: 0.728500\n",
            "Epoch 10 Test Loss: 0.799060, Test Accuracy: 0.739400, time: 145.3s\n",
            "  Epoch 11 @ step 69000: Train Loss: 0.842291, Train Accuracy: 0.739625\n",
            "  Epoch 11 @ step 70000: Train Loss: 0.816187, Train Accuracy: 0.743625\n",
            "  Epoch 11 @ step 71000: Train Loss: 0.845059, Train Accuracy: 0.735625\n",
            "  Epoch 11 @ step 72000: Train Loss: 0.840034, Train Accuracy: 0.738500\n",
            "  Epoch 11 @ step 73000: Train Loss: 0.835346, Train Accuracy: 0.734500\n",
            "  Epoch 11 @ step 74000: Train Loss: 0.844410, Train Accuracy: 0.734000\n",
            "Epoch 11 Test Loss: 0.878912, Test Accuracy: 0.723100, time: 145.8s\n",
            "  Epoch 12 @ step 75000: Train Loss: 0.829607, Train Accuracy: 0.740500\n",
            "  Epoch 12 @ step 76000: Train Loss: 0.810890, Train Accuracy: 0.744625\n",
            "  Epoch 12 @ step 77000: Train Loss: 0.775292, Train Accuracy: 0.759750\n",
            "  Epoch 12 @ step 78000: Train Loss: 0.792943, Train Accuracy: 0.752000\n",
            "  Epoch 12 @ step 79000: Train Loss: 0.817891, Train Accuracy: 0.746250\n",
            "  Epoch 12 @ step 80000: Train Loss: 0.842819, Train Accuracy: 0.737250\n",
            "  Epoch 12 @ step 81000: Train Loss: 0.818336, Train Accuracy: 0.744000\n",
            "Epoch 12 Test Loss: 0.802725, Test Accuracy: 0.736800, time: 144.8s\n",
            "  Epoch 13 @ step 82000: Train Loss: 0.750551, Train Accuracy: 0.765625\n",
            "  Epoch 13 @ step 83000: Train Loss: 0.796167, Train Accuracy: 0.753625\n",
            "  Epoch 13 @ step 84000: Train Loss: 0.776143, Train Accuracy: 0.757125\n",
            "  Epoch 13 @ step 85000: Train Loss: 0.779052, Train Accuracy: 0.755125\n",
            "  Epoch 13 @ step 86000: Train Loss: 0.778142, Train Accuracy: 0.755000\n",
            "  Epoch 13 @ step 87000: Train Loss: 0.779854, Train Accuracy: 0.758625\n",
            "Epoch 13 Test Loss: 0.727153, Test Accuracy: 0.769400, time: 145.0s\n",
            "  Epoch 14 @ step 88000: Train Loss: 0.797519, Train Accuracy: 0.752250\n",
            "  Epoch 14 @ step 89000: Train Loss: 0.737381, Train Accuracy: 0.768125\n",
            "  Epoch 14 @ step 90000: Train Loss: 0.750386, Train Accuracy: 0.768500\n",
            "  Epoch 14 @ step 91000: Train Loss: 0.757169, Train Accuracy: 0.758125\n",
            "  Epoch 14 @ step 92000: Train Loss: 0.769310, Train Accuracy: 0.760250\n",
            "  Epoch 14 @ step 93000: Train Loss: 0.775391, Train Accuracy: 0.756875\n",
            "Epoch 14 Test Loss: 0.820192, Test Accuracy: 0.741300, time: 146.3s\n",
            "  Epoch 15 @ step 94000: Train Loss: 0.756793, Train Accuracy: 0.764500\n",
            "  Epoch 15 @ step 95000: Train Loss: 0.736950, Train Accuracy: 0.769625\n",
            "  Epoch 15 @ step 96000: Train Loss: 0.728146, Train Accuracy: 0.775750\n",
            "  Epoch 15 @ step 97000: Train Loss: 0.758926, Train Accuracy: 0.763125\n",
            "  Epoch 15 @ step 98000: Train Loss: 0.752318, Train Accuracy: 0.763000\n",
            "  Epoch 15 @ step 99000: Train Loss: 0.726079, Train Accuracy: 0.770000\n",
            "Epoch 15 Test Loss: 0.689096, Test Accuracy: 0.780700, time: 145.5s\n",
            "  Epoch 16 @ step 100000: Train Loss: 0.752106, Train Accuracy: 0.768750\n",
            "  Epoch 16 @ step 101000: Train Loss: 0.692756, Train Accuracy: 0.789750\n",
            "  Epoch 16 @ step 102000: Train Loss: 0.717313, Train Accuracy: 0.778250\n",
            "  Epoch 16 @ step 103000: Train Loss: 0.730469, Train Accuracy: 0.777750\n",
            "  Epoch 16 @ step 104000: Train Loss: 0.738479, Train Accuracy: 0.775750\n",
            "  Epoch 16 @ step 105000: Train Loss: 0.736839, Train Accuracy: 0.771000\n",
            "  Epoch 16 @ step 106000: Train Loss: 0.737323, Train Accuracy: 0.775500\n",
            "Epoch 16 Test Loss: 0.707473, Test Accuracy: 0.771500, time: 145.8s\n",
            "  Epoch 17 @ step 107000: Train Loss: 0.688442, Train Accuracy: 0.793125\n",
            "  Epoch 17 @ step 108000: Train Loss: 0.716457, Train Accuracy: 0.779500\n",
            "  Epoch 17 @ step 109000: Train Loss: 0.711110, Train Accuracy: 0.782000\n",
            "  Epoch 17 @ step 110000: Train Loss: 0.715361, Train Accuracy: 0.770750\n",
            "  Epoch 17 @ step 111000: Train Loss: 0.714954, Train Accuracy: 0.775875\n",
            "  Epoch 17 @ step 112000: Train Loss: 0.713690, Train Accuracy: 0.781750\n",
            "Epoch 17 Test Loss: 0.631587, Test Accuracy: 0.796300, time: 145.4s\n",
            "Final Test Loss: 0.631587, Test Accuracy: 0.796300, Total time: 2618.1s\n"
          ],
          "name": "stdout"
        }
      ]
    },
    {
      "metadata": {
        "colab_type": "code",
        "id": "uItu0w4fZTuG",
        "colab": {
          "base_uri": "https://localhost:8080/",
          "height": 573
        },
        "outputId": "bfb9778e-e9a9-42eb-dccf-1b0e336d66a2"
      },
      "cell_type": "code",
      "source": [
        "plot_graphs(\"BaseNet\", metrics_p6)"
      ],
      "execution_count": 44,
      "outputs": [
        {
          "output_type": "display_data",
          "data": {
            "image/png": "[encoded data removed]",
            "text/plain": [
              "<Figure size 432x288 with 1 Axes>"
            ]
          },
          "metadata": {
            "tags": []
          }
        },
        {
          "output_type": "display_data",
          "data": {
            "image/png": "[encoded data removed]",
            "text/plain": [
              "<Figure size 432x288 with 1 Axes>"
            ]
          },
          "metadata": {
            "tags": []
          }
        }
      ]
    },
    {
      "metadata": {
        "colab_type": "text",
        "id": "rWlP2WsodgK0"
      },
      "cell_type": "markdown",
      "source": [
        "After you get a nice model, download the test_file.zip and unzip it to get test_file.pt. In colab, you can explore your files from the left side bar. You can also download the files to your machine from there."
      ]
    },
    {
      "metadata": {
        "colab_type": "code",
        "id": "Z6UZInUCdfQ1",
        "outputId": "720d64f8-c079-4f6f-9143-ca30c8dbe2f0",
        "colab": {
          "base_uri": "https://localhost:8080/",
          "height": 501
        }
      },
      "cell_type": "code",
      "source": [
        "!wget http://courses.engr.illinois.edu/cs498aml/sp2019/homeworks/test_file.zip\n",
        "!unzip test_file.zip"
      ],
      "execution_count": 22,
      "outputs": [
        {
          "output_type": "stream",
          "text": [
            "--2019-05-02 02:03:41--  http://courses.engr.illinois.edu/cs498aml/sp2019/homeworks/test_file.zip\n",
            "Resolving courses.engr.illinois.edu (courses.engr.illinois.edu)... 130.126.151.9\n",
            "Connecting to courses.engr.illinois.edu (courses.engr.illinois.edu)|130.126.151.9|:80... connected.\n",
            "HTTP request sent, awaiting response... 301 Moved Permanently\n",
            "Location: https://courses.engr.illinois.edu/cs498aml/sp2019/homeworks/test_file.zip [following]\n",
            "--2019-05-02 02:03:41--  https://courses.engr.illinois.edu/cs498aml/sp2019/homeworks/test_file.zip\n",
            "Connecting to courses.engr.illinois.edu (courses.engr.illinois.edu)|130.126.151.9|:443... connected.\n",
            "HTTP request sent, awaiting response... 200 OK\n",
            "Length: 3841776 (3.7M) [application/x-zip-compressed]\n",
            "Saving to: ‘test_file.zip.1’\n",
            "\n",
            "test_file.zip.1     100%[===================>]   3.66M  12.3MB/s    in 0.3s    \n",
            "\n",
            "2019-05-02 02:03:41 (12.3 MB/s) - ‘test_file.zip.1’ saved [3841776/3841776]\n",
            "\n",
            "Archive:  test_file.zip\n",
            "replace test_file.pt? [y]es, [n]o, [A]ll, [N]one, [r]ename: y\n",
            "  inflating: test_file.pt            \n"
          ],
          "name": "stdout"
        }
      ]
    },
    {
      "metadata": {
        "colab_type": "text",
        "id": "7g5caFPreMLT"
      },
      "cell_type": "markdown",
      "source": [
        "Then use your model to predict the label of the test images. Fill the remaining code below, where x has two dimensions (batch_size x one image size). Remember to reshpe x accordingly before feeding it into your model. The submission.txt should contain one predicted label (0~9) each line. Submit your submission.txt to the competition in gradscope."
      ]
    },
    {
      "metadata": {
        "colab_type": "code",
        "id": "yNdYAH9XeLlb",
        "colab": {}
      },
      "cell_type": "code",
      "source": [
        "import torch.utils.data as Data\n",
        "\n",
        "test_file = 'test_file.pt'\n",
        "pred_file = 'submission.txt'\n",
        "\n",
        "f_pred = open(pred_file,'w') \n",
        "tensor = torch.load(test_file)\n",
        "torch_dataset = Data.TensorDataset(tensor)  \n",
        "test_loader = torch.utils.data.DataLoader(torch_dataset, batch_size, shuffle=False, num_workers=2)\n"
      ],
      "execution_count": 0,
      "outputs": []
    },
    {
      "metadata": {
        "id": "Vs1VEXg_pigP",
        "colab_type": "code",
        "colab": {}
      },
      "cell_type": "code",
      "source": [
        "for ele in test_loader:\n",
        "    x = ele[0]\n",
        "    x = x.view(8,3,32,32)\n",
        "    x = x.to(device)\n",
        "    preds = torch.argmax(model_p6(x), dim=1) \n",
        "    #print(preds)\n",
        "    for label in preds:\n",
        "        f_pred.write(str(label.item())+'\\n')\n",
        "    \n",
        "f_pred.close()"
      ],
      "execution_count": 0,
      "outputs": []
    },
    {
      "metadata": {
        "colab_type": "text",
        "id": "8-L6F0CMqc-A"
      },
      "cell_type": "markdown",
      "source": [
        "\n",
        "# Report\n",
        "\n",
        "## Part 0: Imports and Basic Setup (5 Points)\n",
        "Nothing to report for this part. You will be just scored for finishing the setup.\n",
        "\n",
        "## Part 1: Fully connected neural networks (25 Points)\n",
        "\n",
        "Test (on validation set) accuracy (5 Points):\n",
        "\n",
        "**fully connected test accuracy after 10 epochs = 0.387100**\n",
        "\n",
        "Test loss (5 Points):\n",
        "\n",
        "**fully connected test loss after 10 epochs = 1.742039**\n",
        "\n",
        "fully connected Training time (5 Points):\n",
        "\n",
        "**fully connected per epoch training time = (approximately)  17.1s**\n",
        "\n",
        "**fully connected total training time for 10 epochs = 169.8s**\n",
        "\n",
        "Plots:\n",
        "\n",
        "- Plot a graph of accuracy on validation set vs training steps (5 Points)\n",
        "\n",
        "**(see end of pdf file)**\n",
        "\n",
        "- Plot a graph of loss on validation set vs training steps (5 Points)\n",
        "\n",
        "**(see end of pdf file)**\n",
        "\n",
        "\n",
        "## Part 2: Convolution Network (Basic) (35 Points)\n",
        "\n",
        "Tensor dimensions: A good way to debug your network for size mismatches is to print the dimension of output after every layers:\n",
        "\n",
        "(10 Points)\n",
        "\n",
        "Output dimension after 1st conv layer: \n",
        "\n",
        "**(16, 32, 32)**\n",
        "\n",
        "Output dimension after 1st max pooling: \n",
        "\n",
        "**(16, 16, 16)**\n",
        "\n",
        "Output dimension after 2nd conv layer: \n",
        "\n",
        "**(16, 16, 16)**\n",
        "\n",
        "Output dimension after flatten layer:\n",
        "\n",
        "**(4096, )**\n",
        "\n",
        "Output dimension after 1st fully connected layer:\n",
        "\n",
        "**(64, )**\n",
        "\n",
        "Output dimension after 2nd fully connected layer:\n",
        "\n",
        "**(10, )**\n",
        "\n",
        "Test (on validation set) Accuracy (5 Points):\n",
        "\n",
        "**convolution network test accuracy after 10 epochs= 0.528700**\n",
        "\n",
        "Test loss (5 Points):\n",
        "\n",
        "**convolution network test loss after 10 epochs = 1.347890**\n",
        "\n",
        "Training time (5 Points):\n",
        "\n",
        "**convolution network per epoch training time = (approximately)  24.0s**\n",
        "\n",
        "**convolution network total training time for 10 epochs = 244.4s**\n",
        "\n",
        "\n",
        "Plots:\n",
        "\n",
        "- Plot a graph of accuracy on validation set vs training steps (5 Points)\n",
        "\n",
        "**(see end of pdf file)**\n",
        "\n",
        "- Plot a graph of loss on validation set vs training steps (5 Points)\n",
        "\n",
        "**(see end of pdf file)**\n",
        "\n",
        "\n",
        "\n",
        "## Part 3: Convolution Network (Add one or more  suggested changes) (35 Points)\n",
        "\n",
        "Describe the additional changes implemented, your intuition for as to why it works, you may also describe other approaches you experimented with (10 Points):\n",
        "\n",
        "**In our custom network we tried to implement a simple VGG network. Our intuition for why it works better: Compared to the basic convolution network it (1) has more layers (2) generates more channels as depth increase (3) Uses batch normalization (4) Uses 5 max-pooling layers throughout the network until image data dimension shrinks to 1x1, as opposed to simply flatten data while data dimension is still large (i.e. 16x16)**\n",
        "\n",
        "Test (on validation set) Accuracy (5 Points):\n",
        "\n",
        "**base(VGG) net test accuracy after 18 epochs = 0.796300**\n",
        "\n",
        "Test loss (5 Points):\n",
        "\n",
        "**base(VGG) net test loss after 18 epochs = 0.631587**\n",
        "\n",
        "Training time (5 Points):\n",
        "\n",
        "**base(VGG) net per epoch training time = (approximately)  145.9s**\n",
        "\n",
        "**base(VGG) net network total training time for 18 epochs = 2618.1s**\n",
        "\n",
        "Plots:\n",
        "\n",
        "- Plot a graph of accuracy on validation set vs training steps (5 Points)\n",
        "\n",
        "**(see end of pdf file)**\n",
        "\n",
        "- Plot a graph of loss on validation set vs training steps (5 Points)\n",
        "\n",
        "**(see end of pdf file)**\n",
        "\n",
        "10 bonus points will be awarded to top 3 scorers on leaderboard (in case of tie for 3rd position everyone tied for 3rd position will get the bonus)"
      ]
    }
  ]
}